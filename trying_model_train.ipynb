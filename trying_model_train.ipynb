{
 "cells": [
  {
   "cell_type": "code",
   "execution_count": 1,
   "id": "71bcf6a7-e672-48d6-812f-b08bc85fdb81",
   "metadata": {},
   "outputs": [],
   "source": [
    "import pandas as pd\n",
    "import numpy as np\n",
    "import joblib\n",
    "from sklearn.preprocessing import StandardScaler\n"
   ]
  },
  {
   "cell_type": "markdown",
   "id": "d1143893-a12d-42f4-abb0-8b428febf798",
   "metadata": {},
   "source": [
    "# Step 2: Load and Prepare the Training Data\n"
   ]
  },
  {
   "cell_type": "code",
   "execution_count": 3,
   "id": "5caafed9-9ff0-4e5e-bf3d-c5c32d8d9d22",
   "metadata": {},
   "outputs": [],
   "source": [
    "# Load the training dataset\n",
    "train_data = pd.read_csv('merged_cleaned_train_flight_weather_data.csv')  # Replace with your actual path\n",
    "\n",
    "# Binary Classification Target\n",
    "train_data['delay_binary'] = np.where(train_data['departure.delay_minutes'] > 0, 'delayed', 'on-time')\n",
    "\n",
    "# Multi-Class Classification Target\n",
    "def categorize_delay(minutes):\n",
    "    if minutes == 0:\n",
    "        return 'No Delay'\n",
    "    elif 0 < minutes < 45:\n",
    "        return 'Short Delay'\n",
    "    elif 45 <= minutes <= 175:\n",
    "        return 'Moderate Delay'\n",
    "    else:\n",
    "        return 'Long Delay'\n",
    "\n",
    "train_data['delay_category'] = train_data['departure.delay_minutes'].apply(categorize_delay)\n",
    "\n",
    "# Regression Target\n",
    "y_regression = train_data['departure.delay_minutes']\n",
    "\n",
    "# Feature Columns for All Tasks\n",
    "feature_cols = ['Departure_Hour', 'Temperature (°F) Avg', 'Wind Speed (mph) Avg', \n",
    "               'Precipitation (in) Total', 'Humidity (%) Avg', 'Pressure (in) Avg']\n",
    "\n",
    "# Include encoded categorical features\n",
    "day_of_week_cols = [col for col in train_data.columns if 'Departure_DayOfWeek_' in col]\n",
    "feature_cols += day_of_week_cols\n",
    "\n",
    "# Include airline encoded features if applicable\n",
    "airline_encoded_cols = [col for col in train_data.columns if 'airline.name_' in col]\n",
    "feature_cols += airline_encoded_cols\n",
    "\n",
    "# Define X and y for Classification Tasks\n",
    "X_classification = train_data[feature_cols]\n",
    "\n",
    "# Define y for Binary Classification\n",
    "y_binary = train_data['delay_binary']\n",
    "\n",
    "# Define y for Multi-Class Classification\n",
    "y_multiclass = train_data['delay_category']\n"
   ]
  },
  {
   "cell_type": "markdown",
   "id": "02b53565-c4d2-48a7-b936-27fb60e6ef31",
   "metadata": {},
   "source": [
    "# Step 3: Train-Test Split"
   ]
  },
  {
   "cell_type": "code",
   "execution_count": 5,
   "id": "aef5b20d-8826-4334-9f74-55b7f9b997a1",
   "metadata": {},
   "outputs": [],
   "source": [
    "from sklearn.model_selection import train_test_split\n",
    "\n",
    "# Binary Classification Split\n",
    "X_train_binary, X_val_binary, y_train_binary, y_val_binary = train_test_split(\n",
    "    X_classification, y_binary, test_size=0.2, random_state=42, stratify=y_binary\n",
    ")\n",
    "\n",
    "# Multi-Class Classification Split\n",
    "X_train_multiclass, X_val_multiclass, y_train_multiclass, y_val_multiclass = train_test_split(\n",
    "    X_classification, y_multiclass, test_size=0.2, random_state=42, stratify=y_multiclass\n",
    ")\n",
    "\n",
    "# Regression Split\n",
    "X_train_reg, X_val_reg, y_train_reg, y_val_reg = train_test_split(\n",
    "    X_classification, y_regression, test_size=0.3, random_state=42\n",
    ")\n"
   ]
  },
  {
   "cell_type": "markdown",
   "id": "1ba4f0e1-30c9-4aa3-8d9f-f83cedd20636",
   "metadata": {},
   "source": [
    "# Step 4: Fit and Save Scalers"
   ]
  },
  {
   "cell_type": "code",
   "execution_count": 8,
   "id": "5ee93a21-95ad-4098-a090-733fb087cf0b",
   "metadata": {},
   "outputs": [
    {
     "name": "stdout",
     "output_type": "stream",
     "text": [
      "Scaler for Binary Classification saved as 'scaler_binary.pkl'.\n",
      "Scaler for Multi-Class Classification saved as 'scaler_multiclass.pkl'.\n",
      "Scaler for Regression saved as 'scaler_regression.pkl'.\n"
     ]
    }
   ],
   "source": [
    "# Initialize scalers\n",
    "scaler_binary = StandardScaler()\n",
    "scaler_multiclass = StandardScaler()\n",
    "scaler_regression = StandardScaler()\n",
    "\n",
    "# Fit scalers on respective training data\n",
    "X_train_binary_scaled = scaler_binary.fit_transform(X_train_binary)\n",
    "X_train_multiclass_scaled = scaler_multiclass.fit_transform(X_train_multiclass)\n",
    "X_train_reg_scaled = scaler_regression.fit_transform(X_train_reg)\n",
    "\n",
    "# Save the scalers for future use\n",
    "joblib.dump(scaler_binary, 'scaler_binary.pkl')\n",
    "print(\"Scaler for Binary Classification saved as 'scaler_binary.pkl'.\")\n",
    "\n",
    "joblib.dump(scaler_multiclass, 'scaler_multiclass.pkl')\n",
    "print(\"Scaler for Multi-Class Classification saved as 'scaler_multiclass.pkl'.\")\n",
    "\n",
    "joblib.dump(scaler_regression, 'scaler_regression.pkl')\n",
    "print(\"Scaler for Regression saved as 'scaler_regression.pkl'.\")\n"
   ]
  },
  {
   "cell_type": "markdown",
   "id": "a8ed7fa9-759d-402c-80d5-c00cf296cdcd",
   "metadata": {},
   "source": [
    "# 2. Model Training and Evaluation\n",
    "# 2.1. Binary Classification"
   ]
  },
  {
   "cell_type": "code",
   "execution_count": 10,
   "id": "c038d16b-ebcf-4b02-8fd0-75e0b25a7209",
   "metadata": {},
   "outputs": [
    {
     "name": "stdout",
     "output_type": "stream",
     "text": [
      "RandomForestClassifier(n_estimators=200, random_state=42)\n"
     ]
    }
   ],
   "source": [
    "from sklearn.ensemble import RandomForestClassifier\n",
    "\n",
    "# Initialize the model\n",
    "rf_classifier = RandomForestClassifier(n_estimators=200, random_state=42)\n",
    "\n",
    "# Train the model\n",
    "rf_classifier.fit(X_train_binary_scaled, y_train_binary)\n",
    "\n",
    "print(rf_classifier)\n"
   ]
  },
  {
   "cell_type": "markdown",
   "id": "9ff2ef80-e8c4-49c8-8dc7-547ddba6f57d",
   "metadata": {},
   "source": [
    "# Step 3: Model Evaluation\n",
    "\n"
   ]
  },
  {
   "cell_type": "code",
   "execution_count": 11,
   "id": "be814588-aa22-43c3-a2bc-e4c8ef7d824e",
   "metadata": {},
   "outputs": [
    {
     "name": "stderr",
     "output_type": "stream",
     "text": [
      "C:\\Users\\hussain\\anaconda3\\Lib\\site-packages\\sklearn\\base.py:432: UserWarning: X has feature names, but RandomForestClassifier was fitted without feature names\n",
      "  warnings.warn(\n"
     ]
    },
    {
     "name": "stdout",
     "output_type": "stream",
     "text": [
      "Random Forest Classifier Performance:\n",
      "Accuracy: 0.61\n",
      "Precision: 0.64\n",
      "Recall: 0.89\n",
      "F1-Score: 0.75\n",
      "\n",
      "Classification Report:\n",
      "              precision    recall  f1-score   support\n",
      "\n",
      "     delayed       0.64      0.89      0.75      6684\n",
      "     on-time       0.32      0.09      0.14      3691\n",
      "\n",
      "    accuracy                           0.61     10375\n",
      "   macro avg       0.48      0.49      0.45     10375\n",
      "weighted avg       0.53      0.61      0.53     10375\n",
      "\n"
     ]
    },
    {
     "data": {
      "image/png": "[encoded data removed]",
      "text/plain": [
       "<Figure size 800x600 with 2 Axes>"
      ]
     },
     "metadata": {},
     "output_type": "display_data"
    }
   ],
   "source": [
    "from sklearn.metrics import accuracy_score, precision_score, recall_score, f1_score, confusion_matrix, classification_report\n",
    "import seaborn as sns\n",
    "import matplotlib.pyplot as plt\n",
    "\n",
    "# Make predictions\n",
    "y_pred_binary = rf_classifier.predict(X_val_binary)\n",
    "\n",
    "# Calculate metrics\n",
    "accuracy = accuracy_score(y_val_binary, y_pred_binary)\n",
    "precision = precision_score(y_val_binary, y_pred_binary, pos_label='delayed')\n",
    "recall = recall_score(y_val_binary, y_pred_binary, pos_label='delayed')\n",
    "f1 = f1_score(y_val_binary, y_pred_binary, pos_label='delayed')\n",
    "\n",
    "print(f\"Random Forest Classifier Performance:\")\n",
    "print(f\"Accuracy: {accuracy:.2f}\")\n",
    "print(f\"Precision: {precision:.2f}\")\n",
    "print(f\"Recall: {recall:.2f}\")\n",
    "print(f\"F1-Score: {f1:.2f}\\n\")\n",
    "\n",
    "# Detailed classification report\n",
    "print(\"Classification Report:\")\n",
    "print(classification_report(y_val_binary, y_pred_binary))\n",
    "\n",
    "# Confusion Matrix\n",
    "cm = confusion_matrix(y_val_binary, y_pred_binary, labels=['on-time', 'delayed'])\n",
    "cm_df = pd.DataFrame(cm, index=['Actual On-Time', 'Actual Delayed'], columns=['Predicted On-Time', 'Predicted Delayed'])\n",
    "\n",
    "plt.figure(figsize=(8,6))\n",
    "sns.heatmap(cm_df, annot=True, fmt='d', cmap='Blues')\n",
    "plt.title('Confusion Matrix: Random Forest Classifier')\n",
    "plt.ylabel('Actual')\n",
    "plt.xlabel('Predicted')\n",
    "plt.show()\n"
   ]
  },
  {
   "cell_type": "markdown",
   "id": "468c892c-629a-4159-a5cb-3638f6f66179",
   "metadata": {},
   "source": [
    "# 2.2. Multi-Class Classification\n",
    "# Step 1: Train the Model"
   ]
  },
  {
   "cell_type": "code",
   "execution_count": 14,
   "id": "a4c8193c-cdc5-4479-b067-91a96bbe6828",
   "metadata": {},
   "outputs": [
    {
     "name": "stdout",
     "output_type": "stream",
     "text": [
      "RandomForestClassifier(random_state=42)\n"
     ]
    }
   ],
   "source": [
    "from sklearn.ensemble import RandomForestClassifier\n",
    "\n",
    "# Initialize the model\n",
    "rf_multiclass = RandomForestClassifier(n_estimators=100, random_state=42)\n",
    "\n",
    "# Train the model\n",
    "rf_multiclass.fit(X_train_multiclass_scaled, y_train_multiclass)\n",
    "\n",
    "print(rf_multiclass)\n",
    "#X_val_multiclass"
   ]
  },
  {
   "cell_type": "markdown",
   "id": "ec1dc781-360b-438d-b24e-48c529b37aa2",
   "metadata": {},
   "source": [
    "# Step 2: Model Evaluation\n"
   ]
  },
  {
   "cell_type": "code",
   "execution_count": 49,
   "id": "9fda4e1c-34db-49e6-ac1f-e1863a877ba9",
   "metadata": {},
   "outputs": [
    {
     "name": "stderr",
     "output_type": "stream",
     "text": [
      "C:\\Users\\hussain\\anaconda3\\Lib\\site-packages\\sklearn\\base.py:432: UserWarning: X has feature names, but RandomForestClassifier was fitted without feature names\n",
      "  warnings.warn(\n",
      "C:\\Users\\hussain\\anaconda3\\Lib\\site-packages\\sklearn\\metrics\\_classification.py:1344: UndefinedMetricWarning: Precision and F-score are ill-defined and being set to 0.0 in labels with no predicted samples. Use `zero_division` parameter to control this behavior.\n",
      "  _warn_prf(average, modifier, msg_start, len(result))\n",
      "C:\\Users\\hussain\\anaconda3\\Lib\\site-packages\\sklearn\\metrics\\_classification.py:1344: UndefinedMetricWarning: Precision and F-score are ill-defined and being set to 0.0 in labels with no predicted samples. Use `zero_division` parameter to control this behavior.\n",
      "  _warn_prf(average, modifier, msg_start, len(result))\n",
      "C:\\Users\\hussain\\anaconda3\\Lib\\site-packages\\sklearn\\metrics\\_classification.py:1344: UndefinedMetricWarning: Precision and F-score are ill-defined and being set to 0.0 in labels with no predicted samples. Use `zero_division` parameter to control this behavior.\n",
      "  _warn_prf(average, modifier, msg_start, len(result))\n"
     ]
    },
    {
     "name": "stdout",
     "output_type": "stream",
     "text": [
      "Random Forest Classifier Performance:\n",
      "Accuracy: 0.30\n",
      "Precision (Weighted): 0.35\n",
      "Recall (Weighted): 0.30\n",
      "F1-Score (Weighted): 0.25\n",
      "\n",
      "Classification Report:\n"
     ]
    },
    {
     "name": "stderr",
     "output_type": "stream",
     "text": [
      "C:\\Users\\hussain\\anaconda3\\Lib\\site-packages\\sklearn\\metrics\\_classification.py:1344: UndefinedMetricWarning: Precision and F-score are ill-defined and being set to 0.0 in labels with no predicted samples. Use `zero_division` parameter to control this behavior.\n",
      "  _warn_prf(average, modifier, msg_start, len(result))\n"
     ]
    },
    {
     "name": "stdout",
     "output_type": "stream",
     "text": [
      "                precision    recall  f1-score   support\n",
      "\n",
      "    Long Delay       0.00      0.00      0.00      1126\n",
      "Moderate Delay       0.00      0.00      0.00       625\n",
      "      No Delay       0.26      0.78      0.39      2793\n",
      "   Short Delay       0.49      0.17      0.25      5831\n",
      "\n",
      "      accuracy                           0.30     10375\n",
      "     macro avg       0.19      0.24      0.16     10375\n",
      "  weighted avg       0.35      0.30      0.25     10375\n",
      "\n"
     ]
    },
    {
     "data": {
      "image/png": "[encoded data removed]",
      "text/plain": [
       "<Figure size 1400x800 with 2 Axes>"
      ]
     },
     "metadata": {},
     "output_type": "display_data"
    }
   ],
   "source": [
    "from sklearn.metrics import accuracy_score, precision_recall_fscore_support, confusion_matrix, classification_report\n",
    "import seaborn as sns\n",
    "import matplotlib.pyplot as plt\n",
    "\n",
    "# Make predictions\n",
    "y_pred_multiclass = rf_multiclass.predict(X_val_multiclass)\n",
    "\n",
    "# Calculate metrics\n",
    "accuracy = accuracy_score(y_val_multiclass, y_pred_multiclass)\n",
    "precision, recall, f1, _ = precision_recall_fscore_support(y_val_multiclass, y_pred_multiclass, average='weighted')\n",
    "\n",
    "print(f\"Random Forest Classifier Performance:\")\n",
    "print(f\"Accuracy: {accuracy:.2f}\")\n",
    "print(f\"Precision (Weighted): {precision:.2f}\")\n",
    "print(f\"Recall (Weighted): {recall:.2f}\")\n",
    "print(f\"F1-Score (Weighted): {f1:.2f}\\n\")\n",
    "\n",
    "# Detailed classification report\n",
    "print(\"Classification Report:\")\n",
    "print(classification_report(y_val_multiclass, y_pred_multiclass))\n",
    "\n",
    "# Confusion Matrix\n",
    "cm = confusion_matrix(y_val_multiclass, y_pred_multiclass, labels=['No Delay', 'Short Delay', 'Moderate Delay', 'Long Delay'])\n",
    "cm_df = pd.DataFrame(cm, index=['Actual No Delay', 'Actual Short Delay', 'Actual Moderate Delay', 'Actual Long Delay'],\n",
    "                     columns=['Predicted No Delay', 'Predicted Short Delay', 'Predicted Moderate Delay', 'Predicted Long Delay'])\n",
    "\n",
    "plt.figure(figsize=(14,8))\n",
    "sns.heatmap(cm_df, annot=True, fmt='d', cmap='Greens')\n",
    "plt.title('Confusion Matrix: Random Forest Classifier')\n",
    "plt.ylabel('Actual')\n",
    "plt.xlabel('Predicted')\n",
    "plt.show()\n"
   ]
  },
  {
   "cell_type": "markdown",
   "id": "158cc257-ed0c-44f9-a2e7-b37579828182",
   "metadata": {},
   "source": [
    "# 2.3. Regression Analysis\n",
    "# Step 1: Train the Model"
   ]
  },
  {
   "cell_type": "code",
   "execution_count": 54,
   "id": "f58dc6bb-223c-4e22-b22b-1ae17f187fd0",
   "metadata": {},
   "outputs": [
    {
     "name": "stdout",
     "output_type": "stream",
     "text": [
      "RandomForestRegressor(random_state=42)\n"
     ]
    }
   ],
   "source": [
    "from sklearn.ensemble import RandomForestRegressor\n",
    "\n",
    "# Initialize the model\n",
    "rf_regressor = RandomForestRegressor(n_estimators=100, random_state=42)\n",
    "\n",
    "# Train the model\n",
    "rf_regressor.fit(X_train_reg_scaled, y_train_reg)\n",
    "\n",
    "print(rf_regressor)\n"
   ]
  },
  {
   "cell_type": "code",
   "execution_count": 56,
   "id": "fa412ab0-bd29-4edb-a9b2-24891ef20bb5",
   "metadata": {},
   "outputs": [
    {
     "name": "stderr",
     "output_type": "stream",
     "text": [
      "C:\\Users\\hussain\\anaconda3\\Lib\\site-packages\\sklearn\\base.py:432: UserWarning: X has feature names, but RandomForestRegressor was fitted without feature names\n",
      "  warnings.warn(\n"
     ]
    },
    {
     "name": "stdout",
     "output_type": "stream",
     "text": [
      "Random Forest Regressor Performance:\n",
      "Mean Absolute Error (MAE): 24.01 minutes\n",
      "Root Mean Squared Error (RMSE): 65.51 minutes\n",
      "R² Score: -0.01\n"
     ]
    }
   ],
   "source": [
    "from sklearn.metrics import mean_absolute_error, mean_squared_error, r2_score\n",
    "\n",
    "# Make predictions\n",
    "y_pred_reg = rf_regressor.predict(X_val_reg)\n",
    "\n",
    "# Calculate metrics\n",
    "mae = mean_absolute_error(y_val_reg, y_pred_reg)\n",
    "rmse = np.sqrt(mean_squared_error(y_val_reg, y_pred_reg))\n",
    "r2 = r2_score(y_val_reg, y_pred_reg)\n",
    "\n",
    "print(f\"Random Forest Regressor Performance:\")\n",
    "print(f\"Mean Absolute Error (MAE): {mae:.2f} minutes\")\n",
    "print(f\"Root Mean Squared Error (RMSE): {rmse:.2f} minutes\")\n",
    "print(f\"R² Score: {r2:.2f}\")\n"
   ]
  },
  {
   "cell_type": "markdown",
   "id": "d1ab33ca-aced-4de6-9369-f52026e72db2",
   "metadata": {},
   "source": [
    "# Cross-Validation:"
   ]
  },
  {
   "cell_type": "code",
   "execution_count": 59,
   "id": "23e3d51d-9384-4432-92c6-7819cafb6761",
   "metadata": {},
   "outputs": [
    {
     "name": "stdout",
     "output_type": "stream",
     "text": [
      "Cross-Validation MAE: 29.92 ± 4.35 minutes\n",
      "Cross-Validation RMSE: 72.31 ± 10.88 minutes\n"
     ]
    }
   ],
   "source": [
    "from sklearn.model_selection import cross_val_score\n",
    "\n",
    "# Perform 5-fold cross-validation\n",
    "cv_mae = cross_val_score(rf_regressor, X_classification, y_regression, cv=5, scoring='neg_mean_absolute_error')\n",
    "cv_rmse = cross_val_score(rf_regressor, X_classification, y_regression, cv=5, scoring='neg_root_mean_squared_error')\n",
    "\n",
    "print(f\"Cross-Validation MAE: {-cv_mae.mean():.2f} ± {cv_mae.std():.2f} minutes\")\n",
    "print(f\"Cross-Validation RMSE: {-cv_rmse.mean():.2f} ± {cv_rmse.std():.2f} minutes\")\n"
   ]
  },
  {
   "cell_type": "markdown",
   "id": "59f6b8a7-c242-42ac-a939-32e567e61c3f",
   "metadata": {},
   "source": [
    "# Feature Importance Analysis:\n"
   ]
  },
  {
   "cell_type": "code",
   "execution_count": 77,
   "id": "7cf3bc12-00ce-4000-84bb-c667b206eccc",
   "metadata": {},
   "outputs": [
    {
     "data": {
      "image/png": "[encoded data removed]",
      "text/plain": [
       "<Figure size 1200x800 with 1 Axes>"
      ]
     },
     "metadata": {},
     "output_type": "display_data"
    }
   ],
   "source": [
    "import matplotlib.pyplot as plt\n",
    "import seaborn as sns\n",
    "\n",
    "# Get feature importances\n",
    "importances = rf_regressor.feature_importances_\n",
    "feature_names = X_classification.columns\n",
    "feature_importance_df = pd.DataFrame({'Feature': feature_names, 'Importance': importances}).sort_values(by='Importance', ascending=False)\n",
    "\n",
    "# Plot feature importances\n",
    "plt.figure(figsize=(12,8))\n",
    "sns.barplot(x='Importance', y='Feature', data=feature_importance_df.head(10), palette='viridis')\n",
    "plt.title('Top 10 Feature Importances: Random Forest Regressor')\n",
    "plt.xlabel('Importance Score')\n",
    "plt.ylabel('Feature')\n",
    "plt.show()\n"
   ]
  },
  {
   "cell_type": "markdown",
   "id": "e6006e08-86a9-40bf-b571-ac89f834698d",
   "metadata": {},
   "source": [
    "# 3. Phase 4: Model Optimization and Evaluation\n",
    "# 3.1. Hyperparameter Tuning with GridSearchCV\n",
    "Optimizing your models can significantly enhance their performance. We'll perform Grid Search to find the best hyperparameters for each model.\n",
    "\n",
    "# 3.1.1. Binary Classification: Random Forest Classifier"
   ]
  },
  {
   "cell_type": "code",
   "execution_count": 79,
   "id": "25883862-d0a3-463d-87f9-25a90dbfbd7e",
   "metadata": {},
   "outputs": [
    {
     "name": "stdout",
     "output_type": "stream",
     "text": [
      "Fitting 3 folds for each of 48 candidates, totalling 144 fits\n"
     ]
    },
    {
     "name": "stderr",
     "output_type": "stream",
     "text": [
      "C:\\Users\\hussain\\anaconda3\\Lib\\site-packages\\sklearn\\ensemble\\_forest.py:424: FutureWarning: `max_features='auto'` has been deprecated in 1.1 and will be removed in 1.3. To keep the past behaviour, explicitly set `max_features='sqrt'` or remove this parameter as it is also the default value for RandomForestClassifiers and ExtraTreesClassifiers.\n",
      "  warn(\n"
     ]
    },
    {
     "name": "stdout",
     "output_type": "stream",
     "text": [
      "Best Parameters (Binary Classification): {'max_depth': None, 'max_features': 'auto', 'min_samples_leaf': 1, 'min_samples_split': 5, 'n_estimators': 200}\n"
     ]
    }
   ],
   "source": [
    "from sklearn.model_selection import GridSearchCV\n",
    "\n",
    "# Define the parameter grid\n",
    "param_grid_binary = {\n",
    "    'n_estimators': [100, 200],\n",
    "    'max_depth': [None, 10, 20],\n",
    "    'min_samples_split': [2, 5],\n",
    "    'min_samples_leaf': [1, 2],\n",
    "    'max_features': ['auto', 'sqrt']\n",
    "}\n",
    "\n",
    "# Initialize Grid Search\n",
    "grid_search_binary = GridSearchCV(\n",
    "    estimator=rf_classifier,\n",
    "    param_grid=param_grid_binary,\n",
    "    cv=3,\n",
    "    n_jobs=-1,\n",
    "    verbose=2,\n",
    "    scoring='f1_macro'  # Focus on F1-Score for balanced performance\n",
    ")\n",
    "\n",
    "# Perform Grid Search\n",
    "grid_search_binary.fit(X_train_binary_scaled, y_train_binary)\n",
    "\n",
    "# Best parameters\n",
    "print(\"Best Parameters (Binary Classification):\", grid_search_binary.best_params_)\n",
    "\n",
    "# Best estimator\n",
    "best_rf_classifier = grid_search_binary.best_estimator_\n"
   ]
  },
  {
   "cell_type": "markdown",
   "id": "cd5e35a5-d728-4c11-ac1d-5017982c7b81",
   "metadata": {},
   "source": [
    "# 3.1.2. Multi-Class Classification: Random Forest Classifier\n",
    "\n"
   ]
  },
  {
   "cell_type": "code",
   "execution_count": 86,
   "id": "330e3077-8da2-4a09-8835-b620ea7a065b",
   "metadata": {},
   "outputs": [
    {
     "name": "stdout",
     "output_type": "stream",
     "text": [
      "Fitting 3 folds for each of 48 candidates, totalling 144 fits\n"
     ]
    },
    {
     "name": "stderr",
     "output_type": "stream",
     "text": [
      "C:\\Users\\hussain\\anaconda3\\Lib\\site-packages\\sklearn\\ensemble\\_forest.py:424: FutureWarning: `max_features='auto'` has been deprecated in 1.1 and will be removed in 1.3. To keep the past behaviour, explicitly set `max_features='sqrt'` or remove this parameter as it is also the default value for RandomForestClassifiers and ExtraTreesClassifiers.\n",
      "  warn(\n"
     ]
    },
    {
     "name": "stdout",
     "output_type": "stream",
     "text": [
      "Best Parameters (Multi-Class Classification): {'max_depth': None, 'max_features': 'auto', 'min_samples_leaf': 1, 'min_samples_split': 2, 'n_estimators': 100}\n"
     ]
    }
   ],
   "source": [
    "# Define the parameter grid\n",
    "param_grid_multiclass = {\n",
    "    'n_estimators': [100, 200],\n",
    "    'max_depth': [None, 10, 20],\n",
    "    'min_samples_split': [2, 5],\n",
    "    'min_samples_leaf': [1, 2],\n",
    "    'max_features': ['auto', 'sqrt']\n",
    "}\n",
    "\n",
    "# Initialize Grid Search\n",
    "grid_search_multiclass = GridSearchCV(\n",
    "    estimator=rf_multiclass,\n",
    "    param_grid=param_grid_multiclass,\n",
    "    cv=3,\n",
    "    n_jobs=-1,\n",
    "    verbose=2,\n",
    "    scoring='f1_macro'\n",
    ")\n",
    "\n",
    "# Perform Grid Search\n",
    "grid_search_multiclass.fit(X_train_multiclass_scaled, y_train_multiclass)\n",
    "\n",
    "# Best parameters\n",
    "print(\"Best Parameters (Multi-Class Classification):\", grid_search_multiclass.best_params_)\n",
    "\n",
    "# Best estimator\n",
    "best_rf_multiclass = grid_search_multiclass.best_estimator_\n"
   ]
  },
  {
   "cell_type": "markdown",
   "id": "81e7465f-32ea-4e46-9fba-d4f68e8cea5a",
   "metadata": {},
   "source": [
    "# 4.Validation with k-Fold Cross-Validation\n",
    "Ensuring that your models generalize well to unseen data is crucial. We'll perform 5-fold cross-validation for each model.\n",
    "\n",
    "# 4.1. Binary Classification"
   ]
  },
  {
   "cell_type": "code",
   "execution_count": 91,
   "id": "564ec560-2464-46b4-9336-ed63b5a286ae",
   "metadata": {},
   "outputs": [
    {
     "name": "stderr",
     "output_type": "stream",
     "text": [
      "C:\\Users\\hussain\\anaconda3\\Lib\\site-packages\\sklearn\\ensemble\\_forest.py:424: FutureWarning: `max_features='auto'` has been deprecated in 1.1 and will be removed in 1.3. To keep the past behaviour, explicitly set `max_features='sqrt'` or remove this parameter as it is also the default value for RandomForestClassifiers and ExtraTreesClassifiers.\n",
      "  warn(\n",
      "C:\\Users\\hussain\\anaconda3\\Lib\\site-packages\\sklearn\\ensemble\\_forest.py:424: FutureWarning: `max_features='auto'` has been deprecated in 1.1 and will be removed in 1.3. To keep the past behaviour, explicitly set `max_features='sqrt'` or remove this parameter as it is also the default value for RandomForestClassifiers and ExtraTreesClassifiers.\n",
      "  warn(\n",
      "C:\\Users\\hussain\\anaconda3\\Lib\\site-packages\\sklearn\\ensemble\\_forest.py:424: FutureWarning: `max_features='auto'` has been deprecated in 1.1 and will be removed in 1.3. To keep the past behaviour, explicitly set `max_features='sqrt'` or remove this parameter as it is also the default value for RandomForestClassifiers and ExtraTreesClassifiers.\n",
      "  warn(\n",
      "C:\\Users\\hussain\\anaconda3\\Lib\\site-packages\\sklearn\\ensemble\\_forest.py:424: FutureWarning: `max_features='auto'` has been deprecated in 1.1 and will be removed in 1.3. To keep the past behaviour, explicitly set `max_features='sqrt'` or remove this parameter as it is also the default value for RandomForestClassifiers and ExtraTreesClassifiers.\n",
      "  warn(\n",
      "C:\\Users\\hussain\\anaconda3\\Lib\\site-packages\\sklearn\\ensemble\\_forest.py:424: FutureWarning: `max_features='auto'` has been deprecated in 1.1 and will be removed in 1.3. To keep the past behaviour, explicitly set `max_features='sqrt'` or remove this parameter as it is also the default value for RandomForestClassifiers and ExtraTreesClassifiers.\n",
      "  warn(\n"
     ]
    },
    {
     "name": "stdout",
     "output_type": "stream",
     "text": [
      "Binary Classification - Cross-Validation F1-Score: 0.65 ± 0.00\n"
     ]
    }
   ],
   "source": [
    "from sklearn.model_selection import cross_val_score\n",
    "\n",
    "# Perform 5-fold cross-validation\n",
    "cv_scores_binary = cross_val_score(best_rf_classifier, X_train_binary_scaled, y_train_binary, cv=5, scoring='f1_macro')\n",
    "\n",
    "print(f\"Binary Classification - Cross-Validation F1-Score: {cv_scores_binary.mean():.2f} ± {cv_scores_binary.std():.2f}\")\n"
   ]
  },
  {
   "cell_type": "markdown",
   "id": "b9a69c34-a73b-43fa-b18a-74be565533f8",
   "metadata": {},
   "source": [
    "# 4.2. Multi-Class Classification"
   ]
  },
  {
   "cell_type": "code",
   "execution_count": 96,
   "id": "8491d34a-e83a-47c2-92c3-c757d1f71900",
   "metadata": {},
   "outputs": [
    {
     "name": "stderr",
     "output_type": "stream",
     "text": [
      "C:\\Users\\hussain\\anaconda3\\Lib\\site-packages\\sklearn\\ensemble\\_forest.py:424: FutureWarning: `max_features='auto'` has been deprecated in 1.1 and will be removed in 1.3. To keep the past behaviour, explicitly set `max_features='sqrt'` or remove this parameter as it is also the default value for RandomForestClassifiers and ExtraTreesClassifiers.\n",
      "  warn(\n",
      "C:\\Users\\hussain\\anaconda3\\Lib\\site-packages\\sklearn\\ensemble\\_forest.py:424: FutureWarning: `max_features='auto'` has been deprecated in 1.1 and will be removed in 1.3. To keep the past behaviour, explicitly set `max_features='sqrt'` or remove this parameter as it is also the default value for RandomForestClassifiers and ExtraTreesClassifiers.\n",
      "  warn(\n",
      "C:\\Users\\hussain\\anaconda3\\Lib\\site-packages\\sklearn\\ensemble\\_forest.py:424: FutureWarning: `max_features='auto'` has been deprecated in 1.1 and will be removed in 1.3. To keep the past behaviour, explicitly set `max_features='sqrt'` or remove this parameter as it is also the default value for RandomForestClassifiers and ExtraTreesClassifiers.\n",
      "  warn(\n",
      "C:\\Users\\hussain\\anaconda3\\Lib\\site-packages\\sklearn\\ensemble\\_forest.py:424: FutureWarning: `max_features='auto'` has been deprecated in 1.1 and will be removed in 1.3. To keep the past behaviour, explicitly set `max_features='sqrt'` or remove this parameter as it is also the default value for RandomForestClassifiers and ExtraTreesClassifiers.\n",
      "  warn(\n",
      "C:\\Users\\hussain\\anaconda3\\Lib\\site-packages\\sklearn\\ensemble\\_forest.py:424: FutureWarning: `max_features='auto'` has been deprecated in 1.1 and will be removed in 1.3. To keep the past behaviour, explicitly set `max_features='sqrt'` or remove this parameter as it is also the default value for RandomForestClassifiers and ExtraTreesClassifiers.\n",
      "  warn(\n"
     ]
    },
    {
     "name": "stdout",
     "output_type": "stream",
     "text": [
      "Multi-Class Classification - Cross-Validation F1-Score: 0.37 ± 0.01\n"
     ]
    }
   ],
   "source": [
    "# Perform 5-fold cross-validation\n",
    "cv_scores_multiclass = cross_val_score(best_rf_multiclass, X_train_multiclass_scaled, y_train_multiclass, cv=5, scoring='f1_macro')\n",
    "\n",
    "print(f\"Multi-Class Classification - Cross-Validation F1-Score: {cv_scores_multiclass.mean():.2f} ± {cv_scores_multiclass.std():.2f}\")\n"
   ]
  },
  {
   "cell_type": "markdown",
   "id": "659b86bb-82d7-4769-9ecf-abd210922d49",
   "metadata": {},
   "source": [
    "# 4.3. Regression"
   ]
  },
  {
   "cell_type": "code",
   "execution_count": 125,
   "id": "c87c8f92-88ee-4c1e-98f0-7f0287ad0d7f",
   "metadata": {},
   "outputs": [
    {
     "name": "stdout",
     "output_type": "stream",
     "text": [
      "Fitting 3 folds for each of 48 candidates, totalling 144 fits\n"
     ]
    },
    {
     "name": "stderr",
     "output_type": "stream",
     "text": [
      "C:\\Users\\hussain\\anaconda3\\Lib\\site-packages\\sklearn\\model_selection\\_search.py:952: UserWarning: One or more of the test scores are non-finite: [nan nan nan nan nan nan nan nan nan nan nan nan nan nan nan nan nan nan\n",
      " nan nan nan nan nan nan nan nan nan nan nan nan nan nan nan nan nan nan\n",
      " nan nan nan nan nan nan nan nan nan nan nan nan]\n",
      "  warnings.warn(\n",
      "C:\\Users\\hussain\\anaconda3\\Lib\\site-packages\\sklearn\\ensemble\\_forest.py:413: FutureWarning: `max_features='auto'` has been deprecated in 1.1 and will be removed in 1.3. To keep the past behaviour, explicitly set `max_features=1.0` or remove this parameter as it is also the default value for RandomForestRegressors and ExtraTreesRegressors.\n",
      "  warn(\n"
     ]
    },
    {
     "name": "stdout",
     "output_type": "stream",
     "text": [
      "Best Parameters (Regression): {'max_depth': None, 'max_features': 'auto', 'min_samples_leaf': 1, 'min_samples_split': 2, 'n_estimators': 100}\n"
     ]
    }
   ],
   "source": [
    "# Define the parameter grid\n",
    "param_grid_reg = {\n",
    "    'n_estimators': [100, 200],\n",
    "    'max_depth': [None, 10, 20],\n",
    "    'min_samples_split': [2, 5],\n",
    "    'min_samples_leaf': [1, 2],\n",
    "    'max_features': ['auto', 'sqrt']\n",
    "}\n",
    "\n",
    "\n",
    "\n",
    "# Initialize Grid Search\n",
    "grid_search_reg = GridSearchCV(\n",
    "    estimator=rf_regressor,\n",
    "    param_grid=param_grid_reg,\n",
    "    cv=3,\n",
    "    n_jobs=-1,\n",
    "    verbose=2,\n",
    "    scoring='f1_macro'  # Optimize for MAE\n",
    ")\n",
    "\n",
    "# Perform Grid Search\n",
    "#grid_search_reg.fit(X_train, y_train)\n",
    "# Perform Grid Search\n",
    "grid_search_reg.fit(X_train_reg_scaled, y_train_reg)\n",
    "\n",
    "\n",
    "# Best parameters\n",
    "print(\"Best Parameters (Regression):\", grid_search_reg.best_params_)\n",
    "\n",
    "# Best estimator\n",
    "best_rf_regressor = grid_search_reg.best_estimator_\n"
   ]
  },
  {
   "cell_type": "code",
   "execution_count": 127,
   "id": "6acc490e-3cc3-4025-8895-daff6b5a7574",
   "metadata": {},
   "outputs": [
    {
     "name": "stderr",
     "output_type": "stream",
     "text": [
      "C:\\Users\\hussain\\anaconda3\\Lib\\site-packages\\sklearn\\ensemble\\_forest.py:413: FutureWarning: `max_features='auto'` has been deprecated in 1.1 and will be removed in 1.3. To keep the past behaviour, explicitly set `max_features=1.0` or remove this parameter as it is also the default value for RandomForestRegressors and ExtraTreesRegressors.\n",
      "  warn(\n",
      "C:\\Users\\hussain\\anaconda3\\Lib\\site-packages\\sklearn\\ensemble\\_forest.py:413: FutureWarning: `max_features='auto'` has been deprecated in 1.1 and will be removed in 1.3. To keep the past behaviour, explicitly set `max_features=1.0` or remove this parameter as it is also the default value for RandomForestRegressors and ExtraTreesRegressors.\n",
      "  warn(\n",
      "C:\\Users\\hussain\\anaconda3\\Lib\\site-packages\\sklearn\\ensemble\\_forest.py:413: FutureWarning: `max_features='auto'` has been deprecated in 1.1 and will be removed in 1.3. To keep the past behaviour, explicitly set `max_features=1.0` or remove this parameter as it is also the default value for RandomForestRegressors and ExtraTreesRegressors.\n",
      "  warn(\n",
      "C:\\Users\\hussain\\anaconda3\\Lib\\site-packages\\sklearn\\ensemble\\_forest.py:413: FutureWarning: `max_features='auto'` has been deprecated in 1.1 and will be removed in 1.3. To keep the past behaviour, explicitly set `max_features=1.0` or remove this parameter as it is also the default value for RandomForestRegressors and ExtraTreesRegressors.\n",
      "  warn(\n",
      "C:\\Users\\hussain\\anaconda3\\Lib\\site-packages\\sklearn\\ensemble\\_forest.py:413: FutureWarning: `max_features='auto'` has been deprecated in 1.1 and will be removed in 1.3. To keep the past behaviour, explicitly set `max_features=1.0` or remove this parameter as it is also the default value for RandomForestRegressors and ExtraTreesRegressors.\n",
      "  warn(\n"
     ]
    },
    {
     "name": "stdout",
     "output_type": "stream",
     "text": [
      "Regression - Cross-Validation MAE: 27.92 ± 0.38 minutes\n"
     ]
    }
   ],
   "source": [
    "# Perform 5-fold cross-validation\n",
    "cv_scores_regression = cross_val_score(best_rf_regressor, X_train_reg_scaled, y_train_reg, cv=5, scoring='neg_mean_absolute_error')\n",
    "\n",
    "print(f\"Regression - Cross-Validation MAE: {-cv_scores_regression.mean():.2f} ± {cv_scores_regression.std():.2f} minutes\")\n"
   ]
  },
  {
   "cell_type": "markdown",
   "id": "5e5a4ec0-b8b2-4dd6-ac3b-b5ae93406680",
   "metadata": {},
   "source": [
    "# 5. Model Comparison\n",
    "Comparing different models helps in selecting the ultimate model with the best performance.\n",
    "\n",
    "# 5.1. Binary Classification: Comparing Random Forest with Logistic Regression"
   ]
  },
  {
   "cell_type": "code",
   "execution_count": null,
   "id": "4eb4ffbf-34d2-49f3-a567-20bff51db476",
   "metadata": {},
   "outputs": [],
   "source": [
    "X_val_binary"
   ]
  },
  {
   "cell_type": "code",
   "execution_count": 103,
   "id": "e32de251-6b05-4f53-8f1e-58a1eadb64dd",
   "metadata": {},
   "outputs": [
    {
     "name": "stderr",
     "output_type": "stream",
     "text": [
      "C:\\Users\\hussain\\anaconda3\\Lib\\site-packages\\sklearn\\base.py:432: UserWarning: X has feature names, but LogisticRegression was fitted without feature names\n",
      "  warnings.warn(\n"
     ]
    },
    {
     "name": "stdout",
     "output_type": "stream",
     "text": [
      "Logistic Regression F1-Score: 0.00\n",
      "Random Forest Classifier F1-Score: 0.75\n"
     ]
    }
   ],
   "source": [
    "from sklearn.linear_model import LogisticRegression\n",
    "\n",
    "# Initialize Logistic Regression\n",
    "lr = LogisticRegression(max_iter=20000, random_state=42)\n",
    "\n",
    "# Train Logistic Regression\n",
    "lr.fit(X_train_binary_scaled, y_train_binary)\n",
    "\n",
    "# Make predictions\n",
    "y_pred_lr = lr.predict(X_val_binary)\n",
    "\n",
    "# Calculate F1-Score\n",
    "f1_lr = f1_score(y_val_binary, y_pred_lr, pos_label='delayed')\n",
    "\n",
    "print(f\"Logistic Regression F1-Score: {f1_lr:.2f}\")\n",
    "\n",
    "# Compare with Random Forest\n",
    "f1_rf = f1_score(y_val_binary, y_pred_binary, pos_label='delayed')\n",
    "print(f\"Random Forest Classifier F1-Score: {f1_rf:.2f}\")\n"
   ]
  },
  {
   "cell_type": "markdown",
   "id": "406185ab-33bc-478b-9ee8-f4738a0c099d",
   "metadata": {},
   "source": [
    "# 5.2. Multi-Class Classification: Comparing Random Forest with Other Models\n",
    "(You can repeat similar steps for other models like Decision Trees, SVMs, etc.)"
   ]
  },
  {
   "cell_type": "code",
   "execution_count": null,
   "id": "d7353d48-067c-4c30-8370-4738fc921dac",
   "metadata": {},
   "outputs": [],
   "source": []
  },
  {
   "cell_type": "markdown",
   "id": "1381e5da-27d7-40a4-9a6b-d8a60c696b23",
   "metadata": {},
   "source": [
    "# 5.3. Regression: Comparing Random Forest with Other Regressors\n",
    "(You can train and evaluate other regression models like Linear Regression, SVR, etc., and compare their MAE and RMSE scores.)\n",
    "\n"
   ]
  },
  {
   "cell_type": "code",
   "execution_count": null,
   "id": "b9ccfe8e-3697-4e77-a62a-686a8aa54e2a",
   "metadata": {},
   "outputs": [],
   "source": []
  },
  {
   "cell_type": "markdown",
   "id": "4e5ab7ce-34ec-4dcb-bf47-e5fb7f643a69",
   "metadata": {},
   "source": [
    "# 6. Phase 5: Model Testing and Submission\n",
    "Now that your models are optimized and evaluated, we'll proceed to make predictions on the test dataset and prepare the submission files.\n",
    "\n",
    "# 6.1. Prerequisites\n",
    "Ensure you have the following files in your working directory:\n",
    "\n",
    "# Trained Models:\n",
    "\n",
    "best_rf_classifier.pkl\n",
    "best_rf_multiclass.pkl\n",
    "best_rf_regressor.pkl\n",
    "Scalers:\n",
    "\n",
    "scaler_binary.pkl\n",
    "scaler_multiclass.pkl\n",
    "scaler_regression.pkl\n",
    "\n",
    "# Test Datasets:\n",
    "\n",
    "cleaned_test_data_no_delay.csv: Preprocessed test dataset without the target variable.\n",
    "original_test_data.csv: Original test dataset containing all required columns for submission.\n",
    "# 6.2. Making Predictions\n",
    "We Will perform predictions for:\n",
    "\n",
    "Binary Classification: Predict if a flight is on-time or delayed.\n",
    "Multi-Class Classification: Categorize flights into No Delay, Short Delay, Moderate Delay, or Long Delay.\n",
    "Regression: Predict the exact delay duration in minutes.\n",
    "# 6.2.1. Binary Classification Prediction\n",
    "Step 1: Import Necessary Libraries\n",
    "(Assuming libraries are already imported)\n",
    "\n",
    "# Step 2: Load the Test Datasets"
   ]
  },
  {
   "cell_type": "code",
   "execution_count": 106,
   "id": "04c98c29-ffd0-479d-bf16-c7d3d6789a66",
   "metadata": {},
   "outputs": [],
   "source": [
    "# Load the cleaned test dataset without 'departure.delay_minutes'\n",
    "test_data_cleaned_binary = pd.read_csv('merged_cleaned_test_flight_weather_data.csv')  # Replace with your actual path\n",
    "\n",
    "# Load the original test dataset for additional columns required in submission\n",
    "#original_test_data_binary = pd.read_csv('original_test_data.csv')  # Replace with your actual path\n"
   ]
  },
  {
   "cell_type": "markdown",
   "id": "558089d2-dfc8-4030-840a-be93a49c44e3",
   "metadata": {},
   "source": [
    "# Step 3: Feature Engineering"
   ]
  },
  {
   "cell_type": "code",
   "execution_count": 136,
   "id": "cc198db4-aadd-4bb6-87e2-496d54e151d4",
   "metadata": {},
   "outputs": [],
   "source": [
    "# Convert 'departure.scheduledTime' to datetime\n",
    "test_data_cleaned_binary['departure.scheduledTime'] = pd.to_datetime(test_data_cleaned_binary['departure.scheduledTime'], errors='coerce')\n",
    "\n",
    "# Extract day of the week\n",
    "test_data_cleaned_binary['Departure_DayOfWeek'] = test_data_cleaned_binary['departure.scheduledTime'].dt.day_name()\n",
    "\n",
    "# Extract hour of the day\n",
    "test_data_cleaned_binary['Departure_Hour'] = test_data_cleaned_binary['departure.scheduledTime'].dt.hour\n"
   ]
  },
  {
   "cell_type": "markdown",
   "id": "52768049-bbbc-4905-90a8-8e11b66f5877",
   "metadata": {},
   "source": [
    "# Step 4: One-Hot Encoding\n"
   ]
  },
  {
   "cell_type": "code",
   "execution_count": 138,
   "id": "466b09ce-aba2-4783-bf90-3d88b6323135",
   "metadata": {},
   "outputs": [],
   "source": [
    "# Encode 'status' column if it's categorical\n",
    "if test_data_cleaned_binary['status'].dtype == 'object' or test_data_cleaned_binary['status'].dtype.name == 'category':\n",
    "    test_data_cleaned_binary['status'] = test_data_cleaned_binary['status'].astype('category').cat.codes\n",
    "\n",
    "# One-Hot Encode 'Departure_DayOfWeek'\n",
    "test_data_cleaned_binary = pd.get_dummies(test_data_cleaned_binary, columns=['Departure_DayOfWeek'], drop_first=True)\n",
    "\n",
    "# One-Hot Encode 'airline.name' if it exists\n",
    "if 'airline.name' in test_data_cleaned_binary.columns:\n",
    "    test_data_cleaned_binary = pd.get_dummies(test_data_cleaned_binary, columns=['airline.name'], drop_first=True)\n"
   ]
  },
  {
   "cell_type": "markdown",
   "id": "164f46a3-243d-4a2a-a4d2-8ee13bb8e3eb",
   "metadata": {},
   "source": [
    "# Step 5: Align Feature Columns\n",
    "# Ensure that the test dataset has the same feature columns as the training dataset."
   ]
  },
  {
   "cell_type": "code",
   "execution_count": 140,
   "id": "dc875361-7dc4-4a83-b3c7-e5442fe5f4dd",
   "metadata": {},
   "outputs": [],
   "source": [
    "# Define feature columns used in the binary classification model\n",
    "feature_cols_binary = ['Departure_Hour', 'Temperature (°F) Avg', 'Wind Speed (mph) Avg', \n",
    "                       'Precipitation (in) Total', 'Humidity (%) Avg', 'Pressure (in) Avg']\n",
    "\n",
    "# Include encoded categorical features\n",
    "day_of_week_cols_binary = [col for col in test_data_cleaned_binary.columns if 'Departure_DayOfWeek_' in col]\n",
    "feature_cols_binary += day_of_week_cols_binary\n",
    "\n",
    "# Include airline encoded features if applicable\n",
    "airline_encoded_cols_binary = [col for col in test_data_cleaned_binary.columns if 'airline.name_' in col]\n",
    "feature_cols_binary += airline_encoded_cols_binary\n",
    "\n",
    "# Check for missing features and add them with default values\n",
    "missing_features_binary = set(feature_cols_binary) - set(test_data_cleaned_binary.columns)\n",
    "if missing_features_binary:\n",
    "    for feature in missing_features_binary:\n",
    "        test_data_cleaned_binary[feature] = 0  # Assign a default value, e.g., 0\n",
    "    print(f\"Missing features added to test data for Binary Classification: {missing_features_binary}\")\n",
    "\n",
    "# Select features for prediction\n",
    "X_test_binary = test_data_cleaned_binary[feature_cols_binary]\n",
    "\n",
    "# Handle any remaining missing values\n",
    "X_test_binary = X_test_binary.fillna(0)\n",
    "\n",
    "# Ensure the order of features matches the training data\n",
    "X_test_binary = X_test_binary[feature_cols_binary]\n"
   ]
  },
  {
   "cell_type": "markdown",
   "id": "93329b6d-2a7d-4a17-9331-e7cbc40e01fe",
   "metadata": {},
   "source": [
    "# Step 6: Feature Scaling\n",
    "\n"
   ]
  },
  {
   "cell_type": "code",
   "execution_count": null,
   "id": "084edbcd-f889-4086-8527-6bd24c80e58e",
   "metadata": {},
   "outputs": [],
   "source": [
    "# Load the scaler for Binary Classification\n",
    "scaler_binary = joblib.load('scaler_binary.pkl')  # Ensure this path is correct\n",
    "\n",
    "# Transform the test data\n",
    "X_test_binary_scaled = scaler_binary.transform(X_test_binary)\n"
   ]
  },
  {
   "cell_type": "markdown",
   "id": "1bc12b05-7e81-4026-8bc1-ddf3d27fe348",
   "metadata": {},
   "source": [
    "# Step 7: Load the Trained Binary Classification Model and Predict\n",
    "\n"
   ]
  },
  {
   "cell_type": "code",
   "execution_count": 119,
   "id": "641e6cf5-7cb1-48b8-9247-3081cf801b3c",
   "metadata": {},
   "outputs": [
    {
     "name": "stdout",
     "output_type": "stream",
     "text": [
      "Best Random Forest Classifier (Binary) saved as 'best_rf_classifier.pkl'.\n",
      "Best Random Forest Classifier (Multi-Class) saved as 'best_rf_multiclass.pkl'.\n"
     ]
    },
    {
     "ename": "NameError",
     "evalue": "name 'best_rf_regressor' is not defined",
     "output_type": "error",
     "traceback": [
      "\u001b[1;31m---------------------------------------------------------------------------\u001b[0m",
      "\u001b[1;31mNameError\u001b[0m                                 Traceback (most recent call last)",
      "Cell \u001b[1;32mIn[119], line 12\u001b[0m\n\u001b[0;32m      9\u001b[0m \u001b[38;5;28mprint\u001b[39m(\u001b[38;5;124m\"\u001b[39m\u001b[38;5;124mBest Random Forest Classifier (Multi-Class) saved as \u001b[39m\u001b[38;5;124m'\u001b[39m\u001b[38;5;124mbest_rf_multiclass.pkl\u001b[39m\u001b[38;5;124m'\u001b[39m\u001b[38;5;124m.\u001b[39m\u001b[38;5;124m\"\u001b[39m)\n\u001b[0;32m     11\u001b[0m \u001b[38;5;66;03m# Save the best Random Forest Regressor\u001b[39;00m\n\u001b[1;32m---> 12\u001b[0m joblib\u001b[38;5;241m.\u001b[39mdump(best_rf_regressor, \u001b[38;5;124m'\u001b[39m\u001b[38;5;124mbest_rf_regressor.pkl\u001b[39m\u001b[38;5;124m'\u001b[39m)\n\u001b[0;32m     13\u001b[0m \u001b[38;5;28mprint\u001b[39m(\u001b[38;5;124m\"\u001b[39m\u001b[38;5;124mBest Random Forest Regressor saved as \u001b[39m\u001b[38;5;124m'\u001b[39m\u001b[38;5;124mbest_rf_regressor.pkl\u001b[39m\u001b[38;5;124m'\u001b[39m\u001b[38;5;124m.\u001b[39m\u001b[38;5;124m\"\u001b[39m)\n",
      "\u001b[1;31mNameError\u001b[0m: name 'best_rf_regressor' is not defined"
     ]
    }
   ],
   "source": [
    "import joblib\n",
    "\n",
    "# Save the best Random Forest Classifier for Binary Classification\n",
    "joblib.dump(best_rf_classifier, 'best_rf_classifier.pkl')\n",
    "print(\"Best Random Forest Classifier (Binary) saved as 'best_rf_classifier.pkl'.\")\n",
    "\n",
    "# Save the best Random Forest Classifier for Multi-Class Classification\n",
    "joblib.dump(best_rf_multiclass, 'best_rf_multiclass.pkl')\n",
    "print(\"Best Random Forest Classifier (Multi-Class) saved as 'best_rf_multiclass.pkl'.\")\n",
    "\n",
    "# Save the best Random Forest Regressor\n",
    "joblib.dump(best_rf_regressor, 'best_rf_regressor.pkl')\n",
    "print(\"Best Random Forest Regressor saved as 'best_rf_regressor.pkl'.\")\n"
   ]
  },
  {
   "cell_type": "code",
   "execution_count": 129,
   "id": "13acc005-25d1-4678-8855-80429b95bd91",
   "metadata": {},
   "outputs": [
    {
     "name": "stdout",
     "output_type": "stream",
     "text": [
      "Best Random Forest Regressor saved as 'best_rf_regressor.pkl'.\n"
     ]
    }
   ],
   "source": [
    "# Save the best Random Forest Regressor\n",
    "joblib.dump(best_rf_regressor, 'best_rf_regressor.pkl')\n",
    "print(\"Best Random Forest Regressor saved as 'best_rf_regressor.pkl'.\")\n"
   ]
  },
  {
   "cell_type": "code",
   "execution_count": null,
   "id": "ea09c032-37d4-44e5-884d-3d33ebe39afc",
   "metadata": {},
   "outputs": [],
   "source": []
  },
  {
   "cell_type": "markdown",
   "id": "7d95eec4-99c3-452e-933e-74cdbe618d81",
   "metadata": {},
   "source": [
    "# Step 8: Convert Predictions to Required Format\n"
   ]
  },
  {
   "cell_type": "code",
   "execution_count": 148,
   "id": "c9fb6163-0728-4f76-8d6d-583d9ec9e641",
   "metadata": {},
   "outputs": [
    {
     "name": "stdout",
     "output_type": "stream",
     "text": [
      "Unique predictions in Binary Classification: ['delayed' 'on-time']\n"
     ]
    }
   ],
   "source": [
    "# Ensure predictions are strings as per submission requirements\n",
    "# If the model predicts numerical labels, map them accordingly\n",
    "# Here, assuming 'delayed' and 'on-time' are directly predicted\n",
    "\n",
    "# Verify unique values\n",
    "print(\"Unique predictions in Binary Classification:\", np.unique(y_pred_binary))\n"
   ]
  },
  {
   "cell_type": "markdown",
   "id": "fe3c3f7f-9067-4417-bf30-a572bc3d74ca",
   "metadata": {},
   "source": [
    "# Step 9: Prepare the Submission File\n",
    "\n"
   ]
  },
  {
   "cell_type": "code",
   "execution_count": null,
   "id": "4619b188-7e58-4089-93b0-6b60f4148719",
   "metadata": {},
   "outputs": [],
   "source": [
    "# Merge predictions with original test data for required submission columns\n",
    "submission_binary = original_test_data_binary[['flight.iataNumber', 'Type', 'Status', \n",
    "                                             'departure.iataCode', 'departure.icaoCode', \n",
    "                                             'departure.scheduledTime', 'arrival.iataCode', \n",
    "                                             'arrival.icaoCode', 'arrival.estimatedTime']].copy()\n",
    "\n",
    "# Add the prediction\n",
    "submission_binary['Delay'] = y_pred_binary\n",
    "\n",
    "# Rename columns as per submission format\n",
    "submission_binary.rename(columns={\n",
    "    'flight.iataNumber': 'Flight Number',\n",
    "    'Type': 'Type',\n",
    "    'Status': 'Status',\n",
    "    'departure.iataCode': 'Departure IATA Code',\n",
    "    'departure.icaoCode': 'Departure ICAO Code',\n",
    "    'departure.scheduledTime': 'Scheduled Time',\n",
    "    'arrival.iataCode': 'Arrival IATA Code',\n",
    "    'arrival.icaoCode': 'Arrival ICAO Code',\n",
    "    'arrival.estimatedTime': 'Arrival Estimated Time',\n",
    "    'Delay': 'Delay'\n",
    "}, inplace=True)\n",
    "\n",
    "# Save to CSV\n",
    "submission_binary.to_csv('final_submission_binary.csv', index=False)\n",
    "\n",
    "print(\"\\nBinary Classification Submission file 'final_submission_binary.csv' created successfully.\")\n"
   ]
  },
  {
   "cell_type": "markdown",
   "id": "e976622b-a619-4633-8cbf-fc57bee2a072",
   "metadata": {},
   "source": [
    "# 6.2.2. Multi-Class Classification Prediction\n",
    "# Step 1: Load the Test Datasets"
   ]
  },
  {
   "cell_type": "code",
   "execution_count": null,
   "id": "64c635e2-bb99-4810-9dad-d82ece426f8d",
   "metadata": {},
   "outputs": [],
   "source": [
    "# Load the cleaned test dataset without 'departure.delay_minutes'\n",
    "test_data_cleaned_multiclass = pd.read_csv('merged_cleaned_test_flight_weather_data.csv.csv')  # Replace with your actual path\n",
    "\n",
    "# Load the original test dataset for additional columns required in submission\n",
    "original_test_data_multiclass = pd.read_csv('merged_cleaned_test_flight_weather_data.csv.csv')  # Replace with your actual path\n"
   ]
  },
  {
   "cell_type": "markdown",
   "id": "a4f648da-4061-4d0e-98e9-ed922aa223fe",
   "metadata": {},
   "source": [
    "# Step 2: Feature Engineering"
   ]
  },
  {
   "cell_type": "code",
   "execution_count": null,
   "id": "acecb9df-90b6-485e-9702-e9e754bbdc3a",
   "metadata": {},
   "outputs": [],
   "source": [
    "# Convert 'departure.scheduledTime' to datetime\n",
    "test_data_cleaned_multiclass['departure.scheduledTime'] = pd.to_datetime(test_data_cleaned_multiclass['departure.scheduledTime'], errors='coerce')\n",
    "\n",
    "# Extract day of the week\n",
    "test_data_cleaned_multiclass['Departure_DayOfWeek'] = test_data_cleaned_multiclass['departure.scheduledTime'].dt.day_name()\n",
    "\n",
    "# Extract hour of the day\n",
    "test_data_cleaned_multiclass['Departure_Hour'] = test_data_cleaned_multiclass['departure.scheduledTime'].dt.hour\n"
   ]
  },
  {
   "cell_type": "markdown",
   "id": "cce3c4e3-660b-4dbb-9a97-2cd827db53ae",
   "metadata": {},
   "source": [
    "# Step 3: One-Hot Encoding\n",
    "\n"
   ]
  },
  {
   "cell_type": "code",
   "execution_count": null,
   "id": "1ec6a649-cb7b-4ac4-85fc-0657abc22c28",
   "metadata": {},
   "outputs": [],
   "source": [
    "# Encode 'status' column if it's categorical\n",
    "if test_data_cleaned_multiclass['status'].dtype == 'object' or test_data_cleaned_multiclass['status'].dtype.name == 'category':\n",
    "    test_data_cleaned_multiclass['status'] = test_data_cleaned_multiclass['status'].astype('category').cat.codes\n",
    "\n",
    "# One-Hot Encode 'Departure_DayOfWeek'\n",
    "test_data_cleaned_multiclass = pd.get_dummies(test_data_cleaned_multiclass, columns=['Departure_DayOfWeek'], drop_first=True)\n",
    "\n",
    "# One-Hot Encode 'airline.name' if it exists\n",
    "if 'airline.name' in test_data_cleaned_multiclass.columns:\n",
    "    test_data_cleaned_multiclass = pd.get_dummies(test_data_cleaned_multiclass, columns=['airline.name'], drop_first=True)\n"
   ]
  },
  {
   "cell_type": "markdown",
   "id": "115d77a3-d6e6-48b4-8831-ee0339b597d7",
   "metadata": {},
   "source": [
    "# Step 4: Align Feature Columns\n"
   ]
  },
  {
   "cell_type": "code",
   "execution_count": null,
   "id": "5570ba12-c948-442c-9b77-be391c424ca1",
   "metadata": {},
   "outputs": [],
   "source": [
    "# Define feature columns used in the multi-class classification model\n",
    "feature_cols_multiclass = ['Departure_Hour', 'Temperature (°F) Avg', 'Wind Speed (mph) Avg', \n",
    "                           'Precipitation (in) Total', 'Humidity (%) Avg', 'Pressure (in) Avg']\n",
    "\n",
    "# Include encoded categorical features\n",
    "day_of_week_cols_multiclass = [col for col in test_data_cleaned_multiclass.columns if 'Departure_DayOfWeek_' in col]\n",
    "feature_cols_multiclass += day_of_week_cols_multiclass\n",
    "\n",
    "# Include airline encoded features if applicable\n",
    "airline_encoded_cols_multiclass = [col for col in test_data_cleaned_multiclass.columns if 'airline.name_' in col]\n",
    "feature_cols_multiclass += airline_encoded_cols_multiclass\n",
    "\n",
    "# Check for missing features and add them with default values\n",
    "missing_features_multiclass = set(feature_cols_multiclass) - set(test_data_cleaned_multiclass.columns)\n",
    "if missing_features_multiclass:\n",
    "    for feature in missing_features_multiclass:\n",
    "        test_data_cleaned_multiclass[feature] = 0  # Assign a default value, e.g., 0\n",
    "    print(f\"Missing features added to test data for Multi-Class Classification: {missing_features_multiclass}\")\n",
    "\n",
    "# Select features for prediction\n",
    "X_test_multiclass = test_data_cleaned_multiclass[feature_cols_multiclass]\n",
    "\n",
    "# Handle any remaining missing values\n",
    "X_test_multiclass = X_test_multiclass.fillna(0)\n",
    "\n",
    "# Ensure the order of features matches the training data\n",
    "X_test_multiclass = X_test_multiclass[feature_cols_multiclass]\n"
   ]
  },
  {
   "cell_type": "markdown",
   "id": "a82f4a48-2506-4986-99b7-e281f9d59164",
   "metadata": {},
   "source": [
    "# Step 5: Feature Scaling\n"
   ]
  },
  {
   "cell_type": "code",
   "execution_count": null,
   "id": "b0aff2a6-5704-4159-86a3-fdeb8bf5fb63",
   "metadata": {},
   "outputs": [],
   "source": [
    "# Load the scaler for Multi-Class Classification\n",
    "scaler_multiclass = joblib.load('scaler_multiclass.pkl')  # Ensure this path is correct\n",
    "\n",
    "# Transform the test data\n",
    "X_test_multiclass_scaled = scaler_multiclass.transform(X_test_multiclass)\n"
   ]
  },
  {
   "cell_type": "markdown",
   "id": "791ad6d6-abc0-4fc2-8870-96f2831449a8",
   "metadata": {},
   "source": [
    "# Step 6: Load the Trained Multi-Class Classification Model and Predict"
   ]
  },
  {
   "cell_type": "code",
   "execution_count": null,
   "id": "e1028ef2-da95-44d7-9375-353d0219eeae",
   "metadata": {},
   "outputs": [],
   "source": [
    "# Load the best trained multi-class classification model\n",
    "best_rf_multiclass = joblib.load('best_rf_multiclass.pkl')  # Ensure this path is correct\n",
    "\n",
    "# Make predictions\n",
    "y_pred_multiclass = best_rf_multiclass.predict(X_test_multiclass_scaled)\n"
   ]
  },
  {
   "cell_type": "markdown",
   "id": "1e1d8727-33a5-473a-b9fe-404d6a0b49d9",
   "metadata": {},
   "source": [
    "# Step 7: Convert Predictions to Required Format"
   ]
  },
  {
   "cell_type": "code",
   "execution_count": null,
   "id": "01ab011a-e052-45e6-bff3-2ae230aa1341",
   "metadata": {},
   "outputs": [],
   "source": [
    "# Ensure predictions are strings as per submission requirements\n",
    "# If the model predicts numerical labels, map them accordingly\n",
    "# Here, assuming 'No Delay', 'Short Delay', 'Moderate Delay', 'Long Delay' are directly predicted\n",
    "\n",
    "# Verify unique values\n",
    "print(\"Unique predictions in Multi-Class Classification:\", np.unique(y_pred_multiclass))\n"
   ]
  },
  {
   "cell_type": "markdown",
   "id": "e7b86b01-5ae5-44d8-96de-3d676a3954b1",
   "metadata": {},
   "source": [
    "# Step 8: Prepare the Submission File\n",
    "\n"
   ]
  },
  {
   "cell_type": "code",
   "execution_count": null,
   "id": "3086344c-cb37-4035-988a-84ef69c4e051",
   "metadata": {},
   "outputs": [],
   "source": [
    "# Merge predictions with original test data for required submission columns\n",
    "submission_multiclass = original_test_data_multiclass[['flight.iataNumber', 'Type', 'Status', \n",
    "                                                   'departure.iataCode', 'departure.icaoCode', \n",
    "                                                   'departure.scheduledTime', 'arrival.iataCode', \n",
    "                                                   'arrival.icaoCode', 'arrival.estimatedTime']].copy()\n",
    "\n",
    "# Add the prediction\n",
    "submission_multiclass['Delay'] = y_pred_multiclass\n",
    "\n",
    "# Rename columns as per submission format\n",
    "submission_multiclass.rename(columns={\n",
    "    'flight.iataNumber': 'Flight Number',\n",
    "    'Type': 'Type',\n",
    "    'Status': 'Status',\n",
    "    'departure.iataCode': 'Departure IATA Code',\n",
    "    'departure.icaoCode': 'Departure ICAO Code',\n",
    "    'departure.scheduledTime': 'Scheduled Time',\n",
    "    'arrival.iataCode': 'Arrival IATA Code',\n",
    "    'arrival.icaoCode': 'Arrival ICAO Code',\n",
    "    'arrival.estimatedTime': 'Arrival Estimated Time',\n",
    "    'Delay': 'Delay'\n",
    "}, inplace=True)\n",
    "\n",
    "# Save to CSV\n",
    "submission_multiclass.to_csv('final_submission_multiclass.csv', index=False)\n",
    "\n",
    "print(\"\\nMulti-Class Classification Submission file 'final_submission_multiclass.csv' created successfully.\")\n"
   ]
  },
  {
   "cell_type": "code",
   "execution_count": null,
   "id": "563b7888-cfe9-4d84-819a-017097ccd97d",
   "metadata": {},
   "outputs": [],
   "source": []
  },
  {
   "cell_type": "code",
   "execution_count": null,
   "id": "6fff4ca6-5a8e-4c73-9c06-5ad78f6bcdb1",
   "metadata": {},
   "outputs": [],
   "source": []
  },
  {
   "cell_type": "code",
   "execution_count": null,
   "id": "85725472-e4a1-497e-af7c-18de5c427b78",
   "metadata": {},
   "outputs": [],
   "source": []
  },
  {
   "cell_type": "code",
   "execution_count": null,
   "id": "8424803e-948b-4519-8211-a73ef37a45d3",
   "metadata": {},
   "outputs": [],
   "source": []
  },
  {
   "cell_type": "code",
   "execution_count": null,
   "id": "0fd2e42a-13ff-4641-a25c-df8f2520e412",
   "metadata": {},
   "outputs": [],
   "source": []
  },
  {
   "cell_type": "code",
   "execution_count": null,
   "id": "94f7f670-6223-481f-80c7-a903c961ea13",
   "metadata": {},
   "outputs": [],
   "source": []
  },
  {
   "cell_type": "code",
   "execution_count": null,
   "id": "e0c3e94b-afca-4cbb-901a-498c2d72c5dc",
   "metadata": {},
   "outputs": [],
   "source": []
  },
  {
   "cell_type": "code",
   "execution_count": null,
   "id": "48e875cd-0852-4f3a-be59-628c4178b80c",
   "metadata": {},
   "outputs": [],
   "source": []
  },
  {
   "cell_type": "code",
   "execution_count": null,
   "id": "889b5a32-ee94-45b2-9b5e-f1f29564a131",
   "metadata": {},
   "outputs": [],
   "source": []
  },
  {
   "cell_type": "code",
   "execution_count": 183,
   "id": "b489fe67-e42f-4d46-83a7-23e9667e3c06",
   "metadata": {},
   "outputs": [],
   "source": []
  },
  {
   "cell_type": "code",
   "execution_count": null,
   "id": "25b9880f-325f-4341-96b1-c34f9895d09f",
   "metadata": {},
   "outputs": [],
   "source": []
  },
  {
   "cell_type": "code",
   "execution_count": null,
   "id": "64f3c6d9-a15b-4ad2-b49d-b719029d77bb",
   "metadata": {},
   "outputs": [],
   "source": []
  },
  {
   "cell_type": "code",
   "execution_count": null,
   "id": "1e81ccc9-2594-483a-99bf-1d44a2b5e830",
   "metadata": {},
   "outputs": [],
   "source": []
  },
  {
   "cell_type": "code",
   "execution_count": null,
   "id": "de0a9b6a-6b04-40c6-ade6-6658aba6a914",
   "metadata": {},
   "outputs": [],
   "source": []
  }
 ],
 "metadata": {
  "kernelspec": {
   "display_name": "Python 3 (ipykernel)",
   "language": "python",
   "name": "python3"
  },
  "language_info": {
   "codemirror_mode": {
    "name": "ipython",
    "version": 3
   },
   "file_extension": ".py",
   "mimetype": "text/x-python",
   "name": "python",
   "nbconvert_exporter": "python",
   "pygments_lexer": "ipython3",
   "version": "3.11.7"
  }
 },
 "nbformat": 4,
 "nbformat_minor": 5
}
