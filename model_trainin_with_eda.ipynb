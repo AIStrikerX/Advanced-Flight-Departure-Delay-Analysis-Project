{
 "cells": [
  {
   "cell_type": "code",
   "execution_count": 1,
   "id": "a959f8a5-43a9-4b91-b144-acc381b817f0",
   "metadata": {},
   "outputs": [],
   "source": [
    "import numpy as np\n",
    "import pandas as pd"
   ]
  },
  {
   "cell_type": "markdown",
   "id": "57ff71b2-1172-493c-a152-8db15f7abae3",
   "metadata": {},
   "source": [
    "# traindataset "
   ]
  },
  {
   "cell_type": "markdown",
   "id": "f5c1bfd5-ad30-4aa7-8605-aec466c9f6be",
   "metadata": {},
   "source": [
    "# 1. Classification Tasks"
   ]
  },
  {
   "cell_type": "code",
   "execution_count": 3,
   "id": "ee97f044-8896-44ad-a5a9-4d603c6bf7f4",
   "metadata": {},
   "outputs": [],
   "source": [
    "train_data = pd.read_csv('merged_cleaned_train_flight_weather_data.csv')  # Replace with your actual path|"
   ]
  },
  {
   "cell_type": "markdown",
   "id": "652e18c2-eec4-405d-b437-76d9d45b5216",
   "metadata": {},
   "source": [
    "# Prepare the Target Variable:\n",
    "\n",
    "\n"
   ]
  },
  {
   "cell_type": "code",
   "execution_count": 5,
   "id": "88deb0b8-bb9a-462d-ae18-73333ee283f3",
   "metadata": {},
   "outputs": [
    {
     "name": "stdout",
     "output_type": "stream",
     "text": [
      "delay_binary\n",
      "delayed    33417\n",
      "on-time    18454\n",
      "Name: count, dtype: int64\n"
     ]
    }
   ],
   "source": [
    "# Create binary target variable\n",
    "train_data['delay_binary'] = np.where(train_data['departure.delay_minutes'] > 0, 'delayed', 'on-time')\n",
    "\n",
    "# Verify the distribution\n",
    "print(train_data['delay_binary'].value_counts())"
   ]
  },
  {
   "cell_type": "markdown",
   "id": "625d24c7-5f9e-44be-87af-419a43f01d88",
   "metadata": {},
   "source": [
    "# Feature Selection:\n",
    "\n"
   ]
  },
  {
   "cell_type": "code",
   "execution_count": 7,
   "id": "6470a449-9854-45c7-a408-7809e3097e02",
   "metadata": {},
   "outputs": [],
   "source": [
    "# Define feature columns based on EDA\n",
    "feature_cols = ['Departure_Hour', 'Temperature (°F) Avg', 'Wind Speed (mph) Avg', \n",
    "               'Precipitation (in) Total', 'Humidity (%) Avg', 'Pressure (in) Avg']\n",
    "\n",
    "# Include encoded categorical features\n",
    "day_of_week_cols = [col for col in train_data.columns if 'Departure_DayOfWeek_' in col]\n",
    "feature_cols += day_of_week_cols\n",
    "\n",
    "# Example: Include 'airline.name_' encoded features if applicable\n",
    "airline_encoded_cols = [col for col in train_data.columns if 'airline.name_' in col]\n",
    "feature_cols += airline_encoded_cols\n",
    "\n",
    "# Define X and y\n",
    "X = train_data[feature_cols]\n",
    "y = train_data['delay_binary']\n"
   ]
  },
  {
   "cell_type": "markdown",
   "id": "69c957e9-6815-45e1-87a1-c8e852a49b6d",
   "metadata": {},
   "source": [
    "# Train-Test Split:\n",
    "\n"
   ]
  },
  {
   "cell_type": "code",
   "execution_count": 9,
   "id": "7ffd4532-da0f-4aad-a977-1aff2a3f7160",
   "metadata": {},
   "outputs": [],
   "source": [
    "from sklearn.model_selection import train_test_split\n",
    "\n",
    "X_train, X_val, y_train, y_val = train_test_split(\n",
    "    X, y, test_size=0.2, random_state=42, stratify=y\n",
    ")\n"
   ]
  },
  {
   "cell_type": "markdown",
   "id": "cd944cf6-ba52-4f6c-b151-d7dbb7f0af94",
   "metadata": {},
   "source": [
    "# Model training"
   ]
  },
  {
   "cell_type": "markdown",
   "id": "7e914773-3996-407e-a390-0d49465e8c53",
   "metadata": {},
   "source": [
    "# randomforestclassifer"
   ]
  },
  {
   "cell_type": "code",
   "execution_count": 10,
   "id": "80dc9349-4b2f-4f49-b9aa-f73d2229db8f",
   "metadata": {},
   "outputs": [
    {
     "data": {
      "text/html": [
       "<style>#sk-container-id-1 {color: black;background-color: white;}#sk-container-id-1 pre{padding: 0;}#sk-container-id-1 div.sk-toggleable {background-color: white;}#sk-container-id-1 label.sk-toggleable__label {cursor: pointer;display: block;width: 100%;margin-bottom: 0;padding: 0.3em;box-sizing: border-box;text-align: center;}#sk-container-id-1 label.sk-toggleable__label-arrow:before {content: \"▸\";float: left;margin-right: 0.25em;color: #696969;}#sk-container-id-1 label.sk-toggleable__label-arrow:hover:before {color: black;}#sk-container-id-1 div.sk-estimator:hover label.sk-toggleable__label-arrow:before {color: black;}#sk-container-id-1 div.sk-toggleable__content {max-height: 0;max-width: 0;overflow: hidden;text-align: left;background-color: #f0f8ff;}#sk-container-id-1 div.sk-toggleable__content pre {margin: 0.2em;color: black;border-radius: 0.25em;background-color: #f0f8ff;}#sk-container-id-1 input.sk-toggleable__control:checked~div.sk-toggleable__content {max-height: 200px;max-width: 100%;overflow: auto;}#sk-container-id-1 input.sk-toggleable__control:checked~label.sk-toggleable__label-arrow:before {content: \"▾\";}#sk-container-id-1 div.sk-estimator input.sk-toggleable__control:checked~label.sk-toggleable__label {background-color: #d4ebff;}#sk-container-id-1 div.sk-label input.sk-toggleable__control:checked~label.sk-toggleable__label {background-color: #d4ebff;}#sk-container-id-1 input.sk-hidden--visually {border: 0;clip: rect(1px 1px 1px 1px);clip: rect(1px, 1px, 1px, 1px);height: 1px;margin: -1px;overflow: hidden;padding: 0;position: absolute;width: 1px;}#sk-container-id-1 div.sk-estimator {font-family: monospace;background-color: #f0f8ff;border: 1px dotted black;border-radius: 0.25em;box-sizing: border-box;margin-bottom: 0.5em;}#sk-container-id-1 div.sk-estimator:hover {background-color: #d4ebff;}#sk-container-id-1 div.sk-parallel-item::after {content: \"\";width: 100%;border-bottom: 1px solid gray;flex-grow: 1;}#sk-container-id-1 div.sk-label:hover label.sk-toggleable__label {background-color: #d4ebff;}#sk-container-id-1 div.sk-serial::before {content: \"\";position: absolute;border-left: 1px solid gray;box-sizing: border-box;top: 0;bottom: 0;left: 50%;z-index: 0;}#sk-container-id-1 div.sk-serial {display: flex;flex-direction: column;align-items: center;background-color: white;padding-right: 0.2em;padding-left: 0.2em;position: relative;}#sk-container-id-1 div.sk-item {position: relative;z-index: 1;}#sk-container-id-1 div.sk-parallel {display: flex;align-items: stretch;justify-content: center;background-color: white;position: relative;}#sk-container-id-1 div.sk-item::before, #sk-container-id-1 div.sk-parallel-item::before {content: \"\";position: absolute;border-left: 1px solid gray;box-sizing: border-box;top: 0;bottom: 0;left: 50%;z-index: -1;}#sk-container-id-1 div.sk-parallel-item {display: flex;flex-direction: column;z-index: 1;position: relative;background-color: white;}#sk-container-id-1 div.sk-parallel-item:first-child::after {align-self: flex-end;width: 50%;}#sk-container-id-1 div.sk-parallel-item:last-child::after {align-self: flex-start;width: 50%;}#sk-container-id-1 div.sk-parallel-item:only-child::after {width: 0;}#sk-container-id-1 div.sk-dashed-wrapped {border: 1px dashed gray;margin: 0 0.4em 0.5em 0.4em;box-sizing: border-box;padding-bottom: 0.4em;background-color: white;}#sk-container-id-1 div.sk-label label {font-family: monospace;font-weight: bold;display: inline-block;line-height: 1.2em;}#sk-container-id-1 div.sk-label-container {text-align: center;}#sk-container-id-1 div.sk-container {/* jupyter's `normalize.less` sets `[hidden] { display: none; }` but bootstrap.min.css set `[hidden] { display: none !important; }` so we also need the `!important` here to be able to override the default hidden behavior on the sphinx rendered scikit-learn.org. See: https://github.com/scikit-learn/scikit-learn/issues/21755 */display: inline-block !important;position: relative;}#sk-container-id-1 div.sk-text-repr-fallback {display: none;}</style><div id=\"sk-container-id-1\" class=\"sk-top-container\"><div class=\"sk-text-repr-fallback\"><pre>RandomForestClassifier(n_estimators=200, random_state=42)</pre><b>In a Jupyter environment, please rerun this cell to show the HTML representation or trust the notebook. <br />On GitHub, the HTML representation is unable to render, please try loading this page with nbviewer.org.</b></div><div class=\"sk-container\" hidden><div class=\"sk-item\"><div class=\"sk-estimator sk-toggleable\"><input class=\"sk-toggleable__control sk-hidden--visually\" id=\"sk-estimator-id-1\" type=\"checkbox\" checked><label for=\"sk-estimator-id-1\" class=\"sk-toggleable__label sk-toggleable__label-arrow\">RandomForestClassifier</label><div class=\"sk-toggleable__content\"><pre>RandomForestClassifier(n_estimators=200, random_state=42)</pre></div></div></div></div></div>"
      ],
      "text/plain": [
       "RandomForestClassifier(n_estimators=200, random_state=42)"
      ]
     },
     "execution_count": 10,
     "metadata": {},
     "output_type": "execute_result"
    }
   ],
   "source": [
    "from sklearn.ensemble import RandomForestClassifier\n",
    "\n",
    "# Initialize the model\n",
    "rf_classifier = RandomForestClassifier(n_estimators=200, random_state=42)\n",
    "\n",
    "# Train the model\n",
    "rf_classifier.fit(X_train, y_train)\n"
   ]
  },
  {
   "cell_type": "markdown",
   "id": "30d7ff6d-53a1-4b68-8940-c20056f70c7d",
   "metadata": {},
   "source": [
    "# Model Evaluation:\n",
    "\n"
   ]
  },
  {
   "cell_type": "code",
   "execution_count": 12,
   "id": "ee2fa840-ad88-4036-9f40-846a76c31366",
   "metadata": {},
   "outputs": [
    {
     "name": "stdout",
     "output_type": "stream",
     "text": [
      "Random Forest Classifier Performance:\n",
      "Accuracy: 0.68\n",
      "Precision: 0.73\n",
      "Recall: 0.81\n",
      "F1-Score: 0.77\n",
      "\n",
      "Classification Report:\n",
      "              precision    recall  f1-score   support\n",
      "\n",
      "     delayed       0.73      0.81      0.77      6684\n",
      "     on-time       0.57      0.46      0.51      3691\n",
      "\n",
      "    accuracy                           0.68     10375\n",
      "   macro avg       0.65      0.63      0.64     10375\n",
      "weighted avg       0.67      0.68      0.68     10375\n",
      "\n"
     ]
    },
    {
     "data": {
      "image/png": "[encoded data removed]",
      "text/plain": [
       "<Figure size 800x600 with 2 Axes>"
      ]
     },
     "metadata": {},
     "output_type": "display_data"
    }
   ],
   "source": [
    "from sklearn.metrics import accuracy_score, precision_score, recall_score, f1_score, confusion_matrix, classification_report\n",
    "import seaborn as sns\n",
    "import matplotlib.pyplot as plt\n",
    "\n",
    "# Make predictions\n",
    "y_pred = rf_classifier.predict(X_val)\n",
    "\n",
    "# Calculate metrics\n",
    "accuracy = accuracy_score(y_val, y_pred)\n",
    "precision = precision_score(y_val, y_pred, pos_label='delayed')\n",
    "recall = recall_score(y_val, y_pred, pos_label='delayed')\n",
    "f1 = f1_score(y_val, y_pred, pos_label='delayed')\n",
    "\n",
    "print(f\"Random Forest Classifier Performance:\")\n",
    "print(f\"Accuracy: {accuracy:.2f}\")\n",
    "print(f\"Precision: {precision:.2f}\")\n",
    "print(f\"Recall: {recall:.2f}\")\n",
    "print(f\"F1-Score: {f1:.2f}\\n\")\n",
    "\n",
    "# Detailed classification report\n",
    "print(\"Classification Report:\")\n",
    "print(classification_report(y_val, y_pred))\n",
    "\n",
    "# Confusion Matrix\n",
    "cm = confusion_matrix(y_val, y_pred, labels=['on-time', 'delayed'])\n",
    "cm_df = pd.DataFrame(cm, index=['Actual On-Time', 'Actual Delayed'], columns=['Predicted On-Time', 'Predicted Delayed'])\n",
    "\n",
    "plt.figure(figsize=(8,6))\n",
    "sns.heatmap(cm_df, annot=True, fmt='d', cmap='Blues')\n",
    "plt.title('Confusion Matrix: Random Forest Classifier')\n",
    "plt.ylabel('Actual')\n",
    "plt.xlabel('Predicted')\n",
    "plt.show()\n"
   ]
  },
  {
   "cell_type": "markdown",
   "id": "2f54a667-735d-4fd4-aad0-ee7542e44afe",
   "metadata": {},
   "source": [
    "# Class-wise Precision-Recall:\n",
    "\n"
   ]
  },
  {
   "cell_type": "code",
   "execution_count": 15,
   "id": "d4b86c0b-9eb9-4896-81b2-537fb515b762",
   "metadata": {},
   "outputs": [
    {
     "data": {
      "image/png": "[encoded data removed]",
      "text/plain": [
       "<Figure size 1000x600 with 1 Axes>"
      ]
     },
     "metadata": {},
     "output_type": "display_data"
    }
   ],
   "source": [
    "from sklearn.metrics import precision_recall_fscore_support\n",
    "\n",
    "precision_recall = precision_recall_fscore_support(y_val, y_pred, labels=['on-time', 'delayed'])\n",
    "\n",
    "labels = ['on-time', 'delayed']\n",
    "precision_vals = precision_recall[0]\n",
    "recall_vals = precision_recall[1]\n",
    "\n",
    "x = np.arange(len(labels))  # the label locations\n",
    "width = 0.5  # the width of the bars\n",
    "\n",
    "fig, ax = plt.subplots(figsize=(10,6))\n",
    "rects1 = ax.bar(x - width/2, precision_vals, width, label='Precision', color='skyblue')\n",
    "rects2 = ax.bar(x + width/2, recall_vals, width, label='Recall', color='salmon')\n",
    "\n",
    "# Add some text for labels, title and custom x-axis tick labels, etc.\n",
    "ax.set_ylabel('Scores')\n",
    "ax.set_title('Precision and Recall by Class')\n",
    "ax.set_xticks(x)\n",
    "ax.set_xticklabels(labels)\n",
    "ax.legend()\n",
    "\n",
    "# Attach a text label above each bar in rects, displaying its height.\n",
    "def autolabel(rects):\n",
    "    for rect in rects:\n",
    "        height = rect.get_height()\n",
    "        ax.annotate(f'{height:.2f}',\n",
    "                    xy=(rect.get_x() + rect.get_width() / 2, height),\n",
    "                    xytext=(0, 3),  # 3 points vertical offset\n",
    "                    textcoords=\"offset points\",\n",
    "                    ha='center', va='bottom')\n",
    "\n",
    "autolabel(rects1)\n",
    "autolabel(rects2)\n",
    "\n",
    "fig.tight_layout()\n",
    "plt.show()\n"
   ]
  },
  {
   "cell_type": "markdown",
   "id": "a0bbb829-abc6-4a17-8bf2-77314be57837",
   "metadata": {},
   "source": [
    "# 1.2. Multi-Class Classification\n"
   ]
  },
  {
   "cell_type": "code",
   "execution_count": 17,
   "id": "c2e1a418-26f2-4383-bcf5-fac79d14b4fd",
   "metadata": {},
   "outputs": [
    {
     "name": "stdout",
     "output_type": "stream",
     "text": [
      "delay_category\n",
      "Short Delay       29151\n",
      "No Delay          13966\n",
      "Long Delay         5631\n",
      "Moderate Delay     3123\n",
      "Name: count, dtype: int64\n"
     ]
    }
   ],
   "source": [
    "# Create multi-class target variable\n",
    "def categorize_delay(minutes):\n",
    "    if minutes == 0:\n",
    "        return 'No Delay'\n",
    "    elif 0 < minutes < 45:\n",
    "        return 'Short Delay'\n",
    "    elif 45 <= minutes <= 175:\n",
    "        return 'Moderate Delay'\n",
    "    else:\n",
    "        return 'Long Delay'\n",
    "\n",
    "train_data['delay_category'] = train_data['departure.delay_minutes'].apply(categorize_delay)\n",
    "\n",
    "# Verify the distribution\n",
    "print(train_data['delay_category'].value_counts())\n"
   ]
  },
  {
   "cell_type": "code",
   "execution_count": 19,
   "id": "af461645-ce2b-462b-b8f8-c89c2f7a7790",
   "metadata": {},
   "outputs": [
    {
     "data": {
      "text/plain": [
       "array(['Long Delay', 'No Delay', 'Short Delay', 'Moderate Delay'],\n",
       "      dtype=object)"
      ]
     },
     "execution_count": 19,
     "metadata": {},
     "output_type": "execute_result"
    }
   ],
   "source": [
    "train_data['delay_category'].unique()"
   ]
  },
  {
   "cell_type": "markdown",
   "id": "34bd6d79-2199-437e-b130-805ece75e6dd",
   "metadata": {},
   "source": [
    "# Feature Selection:\n",
    "\n"
   ]
  },
  {
   "cell_type": "code",
   "execution_count": 21,
   "id": "ed5074cf-80d6-4e70-afbc-e15c3236a483",
   "metadata": {},
   "outputs": [],
   "source": [
    "# Define feature columns\n",
    "feature_cols = ['Departure_Hour', 'Temperature (°F) Avg', 'Wind Speed (mph) Avg', \n",
    "               'Precipitation (in) Total', 'Humidity (%) Avg', 'Pressure (in) Avg']\n",
    "\n",
    "# Include encoded categorical features\n",
    "day_of_week_cols = [col for col in train_data.columns if 'Departure_DayOfWeek_' in col]\n",
    "feature_cols += day_of_week_cols\n",
    "\n",
    "# Include airline encoded features if applicable\n",
    "airline_encoded_cols = [col for col in train_data.columns if 'airline.name_' in col]\n",
    "feature_cols += airline_encoded_cols\n",
    "\n",
    "# Define X and y\n",
    "X = train_data[feature_cols]\n",
    "y = train_data['delay_category']\n"
   ]
  },
  {
   "cell_type": "markdown",
   "id": "950351f1-ddc8-4cbe-9cee-a020bf00e422",
   "metadata": {},
   "source": [
    "# train test spliting"
   ]
  },
  {
   "cell_type": "code",
   "execution_count": 23,
   "id": "8881d408-dd20-409d-a4bc-1a31b65b19d4",
   "metadata": {},
   "outputs": [],
   "source": [
    "from sklearn.model_selection import train_test_split\n",
    "\n",
    "X_train, X_val, y_train, y_val = train_test_split(\n",
    "    X, y, test_size=0.2, random_state=42, stratify=y\n",
    ")\n"
   ]
  },
  {
   "cell_type": "markdown",
   "id": "9e5c0d7e-e9aa-4e90-9df0-7b6ec5923c6f",
   "metadata": {},
   "source": [
    "# model training"
   ]
  },
  {
   "cell_type": "code",
   "execution_count": 25,
   "id": "2854368f-2104-4b35-951d-c4e8703718bc",
   "metadata": {},
   "outputs": [
    {
     "data": {
      "text/html": [
       "<style>#sk-container-id-2 {color: black;background-color: white;}#sk-container-id-2 pre{padding: 0;}#sk-container-id-2 div.sk-toggleable {background-color: white;}#sk-container-id-2 label.sk-toggleable__label {cursor: pointer;display: block;width: 100%;margin-bottom: 0;padding: 0.3em;box-sizing: border-box;text-align: center;}#sk-container-id-2 label.sk-toggleable__label-arrow:before {content: \"▸\";float: left;margin-right: 0.25em;color: #696969;}#sk-container-id-2 label.sk-toggleable__label-arrow:hover:before {color: black;}#sk-container-id-2 div.sk-estimator:hover label.sk-toggleable__label-arrow:before {color: black;}#sk-container-id-2 div.sk-toggleable__content {max-height: 0;max-width: 0;overflow: hidden;text-align: left;background-color: #f0f8ff;}#sk-container-id-2 div.sk-toggleable__content pre {margin: 0.2em;color: black;border-radius: 0.25em;background-color: #f0f8ff;}#sk-container-id-2 input.sk-toggleable__control:checked~div.sk-toggleable__content {max-height: 200px;max-width: 100%;overflow: auto;}#sk-container-id-2 input.sk-toggleable__control:checked~label.sk-toggleable__label-arrow:before {content: \"▾\";}#sk-container-id-2 div.sk-estimator input.sk-toggleable__control:checked~label.sk-toggleable__label {background-color: #d4ebff;}#sk-container-id-2 div.sk-label input.sk-toggleable__control:checked~label.sk-toggleable__label {background-color: #d4ebff;}#sk-container-id-2 input.sk-hidden--visually {border: 0;clip: rect(1px 1px 1px 1px);clip: rect(1px, 1px, 1px, 1px);height: 1px;margin: -1px;overflow: hidden;padding: 0;position: absolute;width: 1px;}#sk-container-id-2 div.sk-estimator {font-family: monospace;background-color: #f0f8ff;border: 1px dotted black;border-radius: 0.25em;box-sizing: border-box;margin-bottom: 0.5em;}#sk-container-id-2 div.sk-estimator:hover {background-color: #d4ebff;}#sk-container-id-2 div.sk-parallel-item::after {content: \"\";width: 100%;border-bottom: 1px solid gray;flex-grow: 1;}#sk-container-id-2 div.sk-label:hover label.sk-toggleable__label {background-color: #d4ebff;}#sk-container-id-2 div.sk-serial::before {content: \"\";position: absolute;border-left: 1px solid gray;box-sizing: border-box;top: 0;bottom: 0;left: 50%;z-index: 0;}#sk-container-id-2 div.sk-serial {display: flex;flex-direction: column;align-items: center;background-color: white;padding-right: 0.2em;padding-left: 0.2em;position: relative;}#sk-container-id-2 div.sk-item {position: relative;z-index: 1;}#sk-container-id-2 div.sk-parallel {display: flex;align-items: stretch;justify-content: center;background-color: white;position: relative;}#sk-container-id-2 div.sk-item::before, #sk-container-id-2 div.sk-parallel-item::before {content: \"\";position: absolute;border-left: 1px solid gray;box-sizing: border-box;top: 0;bottom: 0;left: 50%;z-index: -1;}#sk-container-id-2 div.sk-parallel-item {display: flex;flex-direction: column;z-index: 1;position: relative;background-color: white;}#sk-container-id-2 div.sk-parallel-item:first-child::after {align-self: flex-end;width: 50%;}#sk-container-id-2 div.sk-parallel-item:last-child::after {align-self: flex-start;width: 50%;}#sk-container-id-2 div.sk-parallel-item:only-child::after {width: 0;}#sk-container-id-2 div.sk-dashed-wrapped {border: 1px dashed gray;margin: 0 0.4em 0.5em 0.4em;box-sizing: border-box;padding-bottom: 0.4em;background-color: white;}#sk-container-id-2 div.sk-label label {font-family: monospace;font-weight: bold;display: inline-block;line-height: 1.2em;}#sk-container-id-2 div.sk-label-container {text-align: center;}#sk-container-id-2 div.sk-container {/* jupyter's `normalize.less` sets `[hidden] { display: none; }` but bootstrap.min.css set `[hidden] { display: none !important; }` so we also need the `!important` here to be able to override the default hidden behavior on the sphinx rendered scikit-learn.org. See: https://github.com/scikit-learn/scikit-learn/issues/21755 */display: inline-block !important;position: relative;}#sk-container-id-2 div.sk-text-repr-fallback {display: none;}</style><div id=\"sk-container-id-2\" class=\"sk-top-container\"><div class=\"sk-text-repr-fallback\"><pre>RandomForestClassifier(random_state=42)</pre><b>In a Jupyter environment, please rerun this cell to show the HTML representation or trust the notebook. <br />On GitHub, the HTML representation is unable to render, please try loading this page with nbviewer.org.</b></div><div class=\"sk-container\" hidden><div class=\"sk-item\"><div class=\"sk-estimator sk-toggleable\"><input class=\"sk-toggleable__control sk-hidden--visually\" id=\"sk-estimator-id-2\" type=\"checkbox\" checked><label for=\"sk-estimator-id-2\" class=\"sk-toggleable__label sk-toggleable__label-arrow\">RandomForestClassifier</label><div class=\"sk-toggleable__content\"><pre>RandomForestClassifier(random_state=42)</pre></div></div></div></div></div>"
      ],
      "text/plain": [
       "RandomForestClassifier(random_state=42)"
      ]
     },
     "execution_count": 25,
     "metadata": {},
     "output_type": "execute_result"
    }
   ],
   "source": [
    "from sklearn.ensemble import RandomForestClassifier\n",
    "\n",
    "# Initialize the model\n",
    "rf_multiclass = RandomForestClassifier(n_estimators=100, random_state=42)\n",
    "\n",
    "# Train the model\n",
    "rf_multiclass.fit(X_train, y_train)\n"
   ]
  },
  {
   "cell_type": "markdown",
   "id": "26b95619-3c9f-45d7-92a9-9a973d884de4",
   "metadata": {},
   "source": [
    "# Model Evaluation:\n",
    "\n"
   ]
  },
  {
   "cell_type": "code",
   "execution_count": 27,
   "id": "cb03c607-ece1-497f-b33f-81b72719d5da",
   "metadata": {},
   "outputs": [
    {
     "name": "stdout",
     "output_type": "stream",
     "text": [
      "Random Forest Classifier Performance:\n",
      "Accuracy: 0.58\n",
      "Precision (Weighted): 0.55\n",
      "Recall (Weighted): 0.58\n",
      "F1-Score (Weighted): 0.56\n",
      "\n",
      "Classification Report:\n",
      "                precision    recall  f1-score   support\n",
      "\n",
      "    Long Delay       0.31      0.18      0.23      1126\n",
      "Moderate Delay       0.18      0.11      0.13       625\n",
      "      No Delay       0.50      0.42      0.46      2793\n",
      "   Short Delay       0.66      0.79      0.72      5831\n",
      "\n",
      "      accuracy                           0.58     10375\n",
      "     macro avg       0.41      0.38      0.39     10375\n",
      "  weighted avg       0.55      0.58      0.56     10375\n",
      "\n"
     ]
    },
    {
     "data": {
      "image/png": "[encoded data removed]",
      "text/plain": [
       "<Figure size 1400x800 with 2 Axes>"
      ]
     },
     "metadata": {},
     "output_type": "display_data"
    }
   ],
   "source": [
    "from sklearn.metrics import accuracy_score, precision_recall_fscore_support, confusion_matrix, classification_report\n",
    "import seaborn as sns\n",
    "import matplotlib.pyplot as plt\n",
    "\n",
    "# Make predictions\n",
    "y_pred = rf_multiclass.predict(X_val)\n",
    "\n",
    "# Calculate metrics\n",
    "accuracy = accuracy_score(y_val, y_pred)\n",
    "precision, recall, f1, _ = precision_recall_fscore_support(y_val, y_pred, average='weighted')\n",
    "\n",
    "print(f\"Random Forest Classifier Performance:\")\n",
    "print(f\"Accuracy: {accuracy:.2f}\")\n",
    "print(f\"Precision (Weighted): {precision:.2f}\")\n",
    "print(f\"Recall (Weighted): {recall:.2f}\")\n",
    "print(f\"F1-Score (Weighted): {f1:.2f}\\n\")\n",
    "\n",
    "# Detailed classification report\n",
    "print(\"Classification Report:\")\n",
    "print(classification_report(y_val, y_pred))\n",
    "\n",
    "# Confusion Matrix\n",
    "cm = confusion_matrix(y_val, y_pred, labels=['No Delay', 'Short Delay', 'Moderate Delay', 'Long Delay'])\n",
    "cm_df = pd.DataFrame(cm, index=['Actual No Delay', 'Actual Short Delay', 'Actual Moderate Delay', 'Actual Long Delay'],\n",
    "                     columns=['Predicted No Delay', 'Predicted Short Delay', 'Predicted Moderate Delay', 'Predicted Long Delay'])\n",
    "\n",
    "plt.figure(figsize=(14,8))\n",
    "sns.heatmap(cm_df, annot=True, fmt='d', cmap='Greens')\n",
    "plt.title('Confusion Matrix: Random Forest Classifier')\n",
    "plt.ylabel('Actual')\n",
    "plt.xlabel('Predicted')\n",
    "plt.show()\n"
   ]
  },
  {
   "cell_type": "code",
   "execution_count": 29,
   "id": "1a6affb2-14c3-469d-b306-51ab05f85107",
   "metadata": {},
   "outputs": [
    {
     "data": {
      "image/png": "[encoded data removed]",
      "text/plain": [
       "<Figure size 1200x600 with 1 Axes>"
      ]
     },
     "metadata": {},
     "output_type": "display_data"
    }
   ],
   "source": [
    "from sklearn.metrics import precision_recall_fscore_support\n",
    "\n",
    "precision_recall = precision_recall_fscore_support(y_val, y_pred, labels=['No Delay', 'Short Delay', 'Moderate Delay', 'Long Delay'])\n",
    "\n",
    "labels = ['No Delay', 'Short Delay', 'Moderate Delay', 'Long Delay']\n",
    "precision_vals = precision_recall[0]\n",
    "recall_vals = precision_recall[1]\n",
    "\n",
    "x = np.arange(len(labels))  # the label locations\n",
    "width = 0.35  # the width of the bars\n",
    "\n",
    "fig, ax = plt.subplots(figsize=(12,6))\n",
    "rects1 = ax.bar(x - width/2, precision_vals, width, label='Precision', color='skyblue')\n",
    "rects2 = ax.bar(x + width/2, recall_vals, width, label='Recall', color='salmon')\n",
    "\n",
    "# Add some text for labels, title and custom x-axis tick labels, etc.\n",
    "ax.set_ylabel('Scores')\n",
    "ax.set_title('Precision and Recall by Class')\n",
    "ax.set_xticks(x)\n",
    "ax.set_xticklabels(labels)\n",
    "ax.legend()\n",
    "\n",
    "# Attach a text label above each bar in rects, displaying its height.\n",
    "def autolabel(rects):\n",
    "    for rect in rects:\n",
    "        height = rect.get_height()\n",
    "        ax.annotate(f'{height:.2f}',\n",
    "                    xy=(rect.get_x() + rect.get_width() / 2, height),\n",
    "                    xytext=(0, 3),  # 3 points vertical offset\n",
    "                    textcoords=\"offset points\",\n",
    "                    ha='center', va='bottom')\n",
    "\n",
    "autolabel(rects1)\n",
    "autolabel(rects2)\n",
    "\n",
    "fig.tight_layout()\n",
    "plt.show()"
   ]
  },
  {
   "cell_type": "markdown",
   "id": "9d7a1de1-dcfb-4263-a014-f7fb2e51b457",
   "metadata": {},
   "source": [
    "# Choosing the Right Model"
   ]
  },
  {
   "cell_type": "markdown",
   "id": "548e5697-5be0-422e-8605-588d3ce22df4",
   "metadata": {},
   "source": [
    "# LogisticRegression"
   ]
  },
  {
   "cell_type": "code",
   "execution_count": 31,
   "id": "2965c9a8-8d59-4093-9f33-851f69c2eb07",
   "metadata": {
    "scrolled": true
   },
   "outputs": [
    {
     "name": "stdout",
     "output_type": "stream",
     "text": [
      "Logistic Regression Performance:\n"
     ]
    },
    {
     "name": "stderr",
     "output_type": "stream",
     "text": [
      "C:\\Users\\hussain\\anaconda3\\Lib\\site-packages\\sklearn\\metrics\\_classification.py:1344: UndefinedMetricWarning: Precision and F-score are ill-defined and being set to 0.0 in labels with no predicted samples. Use `zero_division` parameter to control this behavior.\n",
      "  _warn_prf(average, modifier, msg_start, len(result))\n",
      "C:\\Users\\hussain\\anaconda3\\Lib\\site-packages\\sklearn\\metrics\\_classification.py:1344: UndefinedMetricWarning: Precision and F-score are ill-defined and being set to 0.0 in labels with no predicted samples. Use `zero_division` parameter to control this behavior.\n",
      "  _warn_prf(average, modifier, msg_start, len(result))\n"
     ]
    },
    {
     "name": "stdout",
     "output_type": "stream",
     "text": [
      "                precision    recall  f1-score   support\n",
      "\n",
      "    Long Delay       0.39      0.01      0.02      1126\n",
      "Moderate Delay       0.00      0.00      0.00       625\n",
      "      No Delay       0.55      0.27      0.36      2793\n",
      "   Short Delay       0.60      0.93      0.73      5831\n",
      "\n",
      "      accuracy                           0.60     10375\n",
      "     macro avg       0.39      0.30      0.28     10375\n",
      "  weighted avg       0.53      0.60      0.51     10375\n",
      "\n"
     ]
    },
    {
     "name": "stderr",
     "output_type": "stream",
     "text": [
      "C:\\Users\\hussain\\anaconda3\\Lib\\site-packages\\sklearn\\metrics\\_classification.py:1344: UndefinedMetricWarning: Precision and F-score are ill-defined and being set to 0.0 in labels with no predicted samples. Use `zero_division` parameter to control this behavior.\n",
      "  _warn_prf(average, modifier, msg_start, len(result))\n"
     ]
    }
   ],
   "source": [
    "from sklearn.linear_model import LogisticRegression\n",
    "\n",
    "# Initialize the model\n",
    "lr = LogisticRegression(max_iter=20000, random_state=42)\n",
    "\n",
    "# Train the model\n",
    "lr.fit(X_train, y_train)\n",
    "\n",
    "# Make predictions\n",
    "y_pred_lr = lr.predict(X_val)\n",
    "\n",
    "# Evaluate\n",
    "print(\"Logistic Regression Performance:\")\n",
    "print(classification_report(y_val, y_pred_lr))\n"
   ]
  },
  {
   "cell_type": "markdown",
   "id": "1f12476b-881a-454b-ad0f-f2f078a583ab",
   "metadata": {},
   "source": [
    "# Support Vector Machine (SVM):\n",
    "\n"
   ]
  },
  {
   "cell_type": "code",
   "execution_count": null,
   "id": "d90499ac-e77d-4b72-a469-b858f4745ceb",
   "metadata": {},
   "outputs": [],
   "source": [
    "from sklearn.svm import SVC\n",
    "\n",
    "# Initialize the model\n",
    "svm = SVC(kernel='rbf', probability=True, random_state=42)\n",
    "\n",
    "# Train the model\n",
    "svm.fit(X_train, y_train)\n",
    "\n",
    "# Make predictions\n",
    "y_pred_svm = svm.predict(X_val)\n",
    "\n",
    "# Evaluate\n",
    "print(\"SVM Performance:\")\n",
    "print(classification_report(y_val, y_pred_svm))\n"
   ]
  },
  {
   "cell_type": "code",
   "execution_count": null,
   "id": "2a86fb98-afb2-411e-8cf6-4d08d41915b2",
   "metadata": {},
   "outputs": [],
   "source": [
    "from sklearn.svm import SVC\n",
    "\n",
    "# Initialize the model with a linear kernel\n",
    "svm = SVC(kernel='linear', probability=True, random_state=42)\n",
    "\n",
    "# Train the model\n",
    "svm.fit(X_train, y_train)\n",
    "\n",
    "# Make predictions\n",
    "y_pred_svm = svm.predict(X_val)\n",
    "\n",
    "# Evaluate\n",
    "from sklearn.metrics import classification_report\n",
    "print(\"SVM with Linear Kernel Performance:\")\n",
    "print(classification_report(y_val, y_pred_svm))\n"
   ]
  },
  {
   "cell_type": "markdown",
   "id": "972a700f-892f-4d50-a9cf-340b1a8e3d1f",
   "metadata": {},
   "source": [
    "# GaussianNB"
   ]
  },
  {
   "cell_type": "code",
   "execution_count": null,
   "id": "e622b9ed-e30a-4f65-991b-8eecfadcbb0b",
   "metadata": {},
   "outputs": [],
   "source": []
  },
  {
   "cell_type": "code",
   "execution_count": 33,
   "id": "907c4b1f-d50f-411b-98b5-5868bcef39f6",
   "metadata": {},
   "outputs": [
    {
     "name": "stdout",
     "output_type": "stream",
     "text": [
      "Naive Bayes Performance:\n",
      "                precision    recall  f1-score   support\n",
      "\n",
      "    Long Delay       0.15      0.50      0.23      1126\n",
      "Moderate Delay       0.09      0.74      0.16       625\n",
      "      No Delay       0.50      0.21      0.29      2793\n",
      "   Short Delay       0.79      0.02      0.04      5831\n",
      "\n",
      "      accuracy                           0.17     10375\n",
      "     macro avg       0.38      0.37      0.18     10375\n",
      "  weighted avg       0.60      0.17      0.14     10375\n",
      "\n"
     ]
    }
   ],
   "source": [
    "from sklearn.naive_bayes import GaussianNB\n",
    "\n",
    "# Initialize the model\n",
    "nb = GaussianNB()\n",
    "\n",
    "# Train the model\n",
    "nb.fit(X_train, y_train)\n",
    "\n",
    "# Make predictions\n",
    "y_pred_nb = nb.predict(X_val)\n",
    "\n",
    "# Evaluate\n",
    "print(\"Naive Bayes Performance:\")\n",
    "print(classification_report(y_val, y_pred_nb))\n"
   ]
  },
  {
   "cell_type": "markdown",
   "id": "d921ede9-a2b5-46da-aa40-78dd3a7a75f6",
   "metadata": {},
   "source": [
    "# Perceptron"
   ]
  },
  {
   "cell_type": "code",
   "execution_count": 39,
   "id": "297ecd61-212d-4624-bff6-04873fad76e3",
   "metadata": {},
   "outputs": [
    {
     "name": "stdout",
     "output_type": "stream",
     "text": [
      "Perceptron Performance:\n",
      "                precision    recall  f1-score   support\n",
      "\n",
      "    Long Delay       0.00      0.00      0.00      1126\n",
      "Moderate Delay       0.18      0.02      0.04       625\n",
      "      No Delay       0.54      0.17      0.26      2793\n",
      "   Short Delay       0.59      0.96      0.73      5831\n",
      "\n",
      "      accuracy                           0.58     10375\n",
      "     macro avg       0.33      0.29      0.26     10375\n",
      "  weighted avg       0.49      0.58      0.48     10375\n",
      "\n"
     ]
    }
   ],
   "source": [
    "from sklearn.linear_model import Perceptron\n",
    "\n",
    "# Initialize the model\n",
    "perceptron = Perceptron(random_state=40)\n",
    "\n",
    "# Train the model\n",
    "perceptron.fit(X_train, y_train)\n",
    "\n",
    "# Make predictions\n",
    "y_pred_perceptron = perceptron.predict(X_val)\n",
    "\n",
    "# Evaluate\n",
    "print(\"Perceptron Performance:\")\n",
    "print(classification_report(y_val, y_pred_perceptron))\n"
   ]
  },
  {
   "cell_type": "markdown",
   "id": "6b251a12-557f-400e-af84-b0fbc43d823c",
   "metadata": {},
   "source": [
    "# 2. Regression Analysis"
   ]
  },
  {
   "cell_type": "markdown",
   "id": "b588fd7a-9a67-4a21-aa3e-18523c4b7a0e",
   "metadata": {},
   "source": [
    "# Feature Selection:\n"
   ]
  },
  {
   "cell_type": "code",
   "execution_count": 41,
   "id": "86aed6aa-fbb5-4fa7-acdf-f73716fc2377",
   "metadata": {},
   "outputs": [],
   "source": [
    "# Define feature columns\n",
    "feature_cols = ['Departure_Hour', 'Temperature (°F) Avg', 'Wind Speed (mph) Avg', \n",
    "               'Precipitation (in) Total', 'Humidity (%) Avg', 'Pressure (in) Avg']\n",
    "\n",
    "# Include encoded categorical features\n",
    "day_of_week_cols = [col for col in train_data.columns if 'Departure_DayOfWeek_' in col]\n",
    "feature_cols += day_of_week_cols\n",
    "\n",
    "# Include airline encoded features if applicable\n",
    "airline_encoded_cols = [col for col in train_data.columns if 'airline.name_' in col]\n",
    "feature_cols += airline_encoded_cols\n",
    "\n",
    "# Define X and y\n",
    "X = train_data[feature_cols]\n",
    "y = train_data['departure.delay_minutes']\n"
   ]
  },
  {
   "cell_type": "markdown",
   "id": "a12648b6-a75c-4e41-803a-b5b7ce0fac16",
   "metadata": {},
   "source": [
    "# Train-Test Split:"
   ]
  },
  {
   "cell_type": "code",
   "execution_count": 43,
   "id": "2d0bc3ef-28f6-4960-8f16-0c83be766512",
   "metadata": {},
   "outputs": [],
   "source": [
    "from sklearn.model_selection import train_test_split\n",
    "\n",
    "X_train, X_val, y_train, y_val = train_test_split(\n",
    "    X, y, test_size=0.3, random_state=42\n",
    ")\n"
   ]
  },
  {
   "cell_type": "markdown",
   "id": "7002f531-614a-4ff5-8ffc-68da3a14ac0b",
   "metadata": {},
   "source": [
    "# Model Training:\n"
   ]
  },
  {
   "cell_type": "code",
   "execution_count": 45,
   "id": "0eb38e13-b708-42c0-9c00-907912e79be4",
   "metadata": {},
   "outputs": [
    {
     "data": {
      "text/html": [
       "<style>#sk-container-id-3 {color: black;background-color: white;}#sk-container-id-3 pre{padding: 0;}#sk-container-id-3 div.sk-toggleable {background-color: white;}#sk-container-id-3 label.sk-toggleable__label {cursor: pointer;display: block;width: 100%;margin-bottom: 0;padding: 0.3em;box-sizing: border-box;text-align: center;}#sk-container-id-3 label.sk-toggleable__label-arrow:before {content: \"▸\";float: left;margin-right: 0.25em;color: #696969;}#sk-container-id-3 label.sk-toggleable__label-arrow:hover:before {color: black;}#sk-container-id-3 div.sk-estimator:hover label.sk-toggleable__label-arrow:before {color: black;}#sk-container-id-3 div.sk-toggleable__content {max-height: 0;max-width: 0;overflow: hidden;text-align: left;background-color: #f0f8ff;}#sk-container-id-3 div.sk-toggleable__content pre {margin: 0.2em;color: black;border-radius: 0.25em;background-color: #f0f8ff;}#sk-container-id-3 input.sk-toggleable__control:checked~div.sk-toggleable__content {max-height: 200px;max-width: 100%;overflow: auto;}#sk-container-id-3 input.sk-toggleable__control:checked~label.sk-toggleable__label-arrow:before {content: \"▾\";}#sk-container-id-3 div.sk-estimator input.sk-toggleable__control:checked~label.sk-toggleable__label {background-color: #d4ebff;}#sk-container-id-3 div.sk-label input.sk-toggleable__control:checked~label.sk-toggleable__label {background-color: #d4ebff;}#sk-container-id-3 input.sk-hidden--visually {border: 0;clip: rect(1px 1px 1px 1px);clip: rect(1px, 1px, 1px, 1px);height: 1px;margin: -1px;overflow: hidden;padding: 0;position: absolute;width: 1px;}#sk-container-id-3 div.sk-estimator {font-family: monospace;background-color: #f0f8ff;border: 1px dotted black;border-radius: 0.25em;box-sizing: border-box;margin-bottom: 0.5em;}#sk-container-id-3 div.sk-estimator:hover {background-color: #d4ebff;}#sk-container-id-3 div.sk-parallel-item::after {content: \"\";width: 100%;border-bottom: 1px solid gray;flex-grow: 1;}#sk-container-id-3 div.sk-label:hover label.sk-toggleable__label {background-color: #d4ebff;}#sk-container-id-3 div.sk-serial::before {content: \"\";position: absolute;border-left: 1px solid gray;box-sizing: border-box;top: 0;bottom: 0;left: 50%;z-index: 0;}#sk-container-id-3 div.sk-serial {display: flex;flex-direction: column;align-items: center;background-color: white;padding-right: 0.2em;padding-left: 0.2em;position: relative;}#sk-container-id-3 div.sk-item {position: relative;z-index: 1;}#sk-container-id-3 div.sk-parallel {display: flex;align-items: stretch;justify-content: center;background-color: white;position: relative;}#sk-container-id-3 div.sk-item::before, #sk-container-id-3 div.sk-parallel-item::before {content: \"\";position: absolute;border-left: 1px solid gray;box-sizing: border-box;top: 0;bottom: 0;left: 50%;z-index: -1;}#sk-container-id-3 div.sk-parallel-item {display: flex;flex-direction: column;z-index: 1;position: relative;background-color: white;}#sk-container-id-3 div.sk-parallel-item:first-child::after {align-self: flex-end;width: 50%;}#sk-container-id-3 div.sk-parallel-item:last-child::after {align-self: flex-start;width: 50%;}#sk-container-id-3 div.sk-parallel-item:only-child::after {width: 0;}#sk-container-id-3 div.sk-dashed-wrapped {border: 1px dashed gray;margin: 0 0.4em 0.5em 0.4em;box-sizing: border-box;padding-bottom: 0.4em;background-color: white;}#sk-container-id-3 div.sk-label label {font-family: monospace;font-weight: bold;display: inline-block;line-height: 1.2em;}#sk-container-id-3 div.sk-label-container {text-align: center;}#sk-container-id-3 div.sk-container {/* jupyter's `normalize.less` sets `[hidden] { display: none; }` but bootstrap.min.css set `[hidden] { display: none !important; }` so we also need the `!important` here to be able to override the default hidden behavior on the sphinx rendered scikit-learn.org. See: https://github.com/scikit-learn/scikit-learn/issues/21755 */display: inline-block !important;position: relative;}#sk-container-id-3 div.sk-text-repr-fallback {display: none;}</style><div id=\"sk-container-id-3\" class=\"sk-top-container\"><div class=\"sk-text-repr-fallback\"><pre>RandomForestRegressor(random_state=42)</pre><b>In a Jupyter environment, please rerun this cell to show the HTML representation or trust the notebook. <br />On GitHub, the HTML representation is unable to render, please try loading this page with nbviewer.org.</b></div><div class=\"sk-container\" hidden><div class=\"sk-item\"><div class=\"sk-estimator sk-toggleable\"><input class=\"sk-toggleable__control sk-hidden--visually\" id=\"sk-estimator-id-3\" type=\"checkbox\" checked><label for=\"sk-estimator-id-3\" class=\"sk-toggleable__label sk-toggleable__label-arrow\">RandomForestRegressor</label><div class=\"sk-toggleable__content\"><pre>RandomForestRegressor(random_state=42)</pre></div></div></div></div></div>"
      ],
      "text/plain": [
       "RandomForestRegressor(random_state=42)"
      ]
     },
     "execution_count": 45,
     "metadata": {},
     "output_type": "execute_result"
    }
   ],
   "source": [
    "from sklearn.ensemble import RandomForestRegressor\n",
    "\n",
    "# Initialize the model\n",
    "rf_regressor = RandomForestRegressor(n_estimators=100, random_state=42)\n",
    "\n",
    "# Train the model\n",
    "rf_regressor.fit(X_train, y_train)\n"
   ]
  },
  {
   "cell_type": "markdown",
   "id": "eb6d36f2-429e-4715-ab91-3eb6895f2724",
   "metadata": {},
   "source": [
    "# Model Evaluation:\n",
    "\n"
   ]
  },
  {
   "cell_type": "code",
   "execution_count": 47,
   "id": "7ed744bc-cc44-4bad-a942-2e28c8cd16ec",
   "metadata": {},
   "outputs": [
    {
     "name": "stdout",
     "output_type": "stream",
     "text": [
      "Random Forest Regressor Performance:\n",
      "Mean Absolute Error (MAE): 28.59 minutes\n",
      "Root Mean Squared Error (RMSE): 72.10 minutes\n",
      "R² Score: -0.22\n"
     ]
    }
   ],
   "source": [
    "from sklearn.metrics import mean_absolute_error, mean_squared_error, r2_score\n",
    "\n",
    "# Make predictions\n",
    "y_pred = rf_regressor.predict(X_val)\n",
    "\n",
    "# Calculate metrics\n",
    "mae = mean_absolute_error(y_val, y_pred)\n",
    "rmse = np.sqrt(mean_squared_error(y_val, y_pred))\n",
    "r2 = r2_score(y_val, y_pred)\n",
    "\n",
    "print(f\"Random Forest Regressor Performance:\")\n",
    "print(f\"Mean Absolute Error (MAE): {mae:.2f} minutes\")\n",
    "print(f\"Root Mean Squared Error (RMSE): {rmse:.2f} minutes\")\n",
    "print(f\"R² Score: {r2:.2f}\")\n"
   ]
  },
  {
   "cell_type": "markdown",
   "id": "502e01bf-50cb-4a73-a4f4-60bdff969b64",
   "metadata": {},
   "source": [
    "# Cross-Validation:"
   ]
  },
  {
   "cell_type": "code",
   "execution_count": 49,
   "id": "fc5c8ef5-4244-44e5-8b46-c94d07db0589",
   "metadata": {},
   "outputs": [
    {
     "name": "stdout",
     "output_type": "stream",
     "text": [
      "Cross-Validation MAE: 29.92 ± 4.35 minutes\n",
      "Cross-Validation RMSE: 72.31 ± 10.88 minutes\n"
     ]
    }
   ],
   "source": [
    "from sklearn.model_selection import cross_val_score\n",
    "\n",
    "# Perform 5-fold cross-validation\n",
    "cv_mae = cross_val_score(rf_regressor, X, y, cv=5, scoring='neg_mean_absolute_error')\n",
    "cv_rmse = cross_val_score(rf_regressor, X, y, cv=5, scoring='neg_root_mean_squared_error')\n",
    "\n",
    "print(f\"Cross-Validation MAE: {-cv_mae.mean():.2f} ± {cv_mae.std():.2f} minutes\")\n",
    "print(f\"Cross-Validation RMSE: {-cv_rmse.mean():.2f} ± {cv_rmse.std():.2f} minutes\")\n"
   ]
  },
  {
   "cell_type": "markdown",
   "id": "c1555213-d2be-4e57-ba30-1b59dcfefde4",
   "metadata": {},
   "source": [
    "# Feature Importance Analysis:\n"
   ]
  },
  {
   "cell_type": "code",
   "execution_count": 58,
   "id": "9c5c4f2e-9de3-4829-8263-c625645ac664",
   "metadata": {},
   "outputs": [
    {
     "data": {
      "image/png": "[encoded data removed]",
      "text/plain": [
       "<Figure size 1200x800 with 1 Axes>"
      ]
     },
     "metadata": {},
     "output_type": "display_data"
    }
   ],
   "source": [
    "import matplotlib.pyplot as plt\n",
    "import seaborn as sns\n",
    "\n",
    "# Get feature importances\n",
    "importances = rf_regressor.feature_importances_\n",
    "feature_names = X.columns\n",
    "feature_importance_df = pd.DataFrame({'Feature': feature_names, 'Importance': importances}).sort_values(by='Importance', ascending=False)\n",
    "\n",
    "# Plot feature importances\n",
    "plt.figure(figsize=(12,8))\n",
    "sns.barplot(x='Importance', y='Feature', data=feature_importance_df.head(10), palette='viridis')\n",
    "plt.title('Top 10 Feature Importances: Random Forest Regressor')\n",
    "plt.xlabel('Importance Score')\n",
    "plt.ylabel('Feature')\n",
    "plt.show()\n"
   ]
  },
  {
   "cell_type": "code",
   "execution_count": null,
   "id": "85242227-3e6e-467a-8279-91a22fd1d97b",
   "metadata": {},
   "outputs": [],
   "source": []
  },
  {
   "cell_type": "markdown",
   "id": "5b6156cc-5ed7-4328-9ab3-8393744aff3c",
   "metadata": {},
   "source": [
    "# Phase 4: Model Optimization and Evaluation"
   ]
  },
  {
   "cell_type": "code",
   "execution_count": null,
   "id": "c76a36b3-3818-453a-bc32-3f90fb2b6fba",
   "metadata": {},
   "outputs": [],
   "source": [
    "from sklearn.model_selection import GridSearchCV\n",
    "\n",
    "# Define the parameter grid\n",
    "param_grid = {\n",
    "    'n_estimators': [100, 200],\n",
    "    'max_depth': [None, 10, 20],\n",
    "    'min_samples_split': [2, 5],\n",
    "    'min_samples_leaf': [1, 2],\n",
    "    'max_features': ['auto', 'sqrt']\n",
    "}\n",
    "\n",
    "# Initialize Grid Search\n",
    "grid_search = GridSearchCV(\n",
    "    estimator=rf_classifier,\n",
    "    param_grid=param_grid,\n",
    "    cv=3,\n",
    "    n_jobs=-1,\n",
    "    verbose=2,\n",
    "    scoring='f1_macro'  # Focus on F1-Score for balanced performance\n",
    ")\n",
    "\n",
    "# Perform Grid Search\n",
    "grid_search.fit(X_train, y_train)\n",
    "\n",
    "# Best parameters\n",
    "print(\"Best Parameters:\", grid_search.best_params_)\n",
    "\n",
    "# Best estimator\n",
    "best_rf_classifier = grid_search.best_estimator_\n"
   ]
  },
  {
   "cell_type": "markdown",
   "id": "fbfdb858-9b4c-41ef-9fa6-117227283f4c",
   "metadata": {},
   "source": [
    "# Multi-Class Classification: Random Forest Classifier"
   ]
  },
  {
   "cell_type": "code",
   "execution_count": null,
   "id": "ab083cf3-31fe-4db1-a2e1-924166335864",
   "metadata": {},
   "outputs": [],
   "source": [
    "# Define the parameter grid\n",
    "param_grid = {\n",
    "    'n_estimators': [100, 200],\n",
    "    'max_depth': [None, 10, 20],\n",
    "    'min_samples_split': [2, 5],\n",
    "    'min_samples_leaf': [1, 2],\n",
    "    'max_features': ['auto', 'sqrt']\n",
    "}\n",
    "\n",
    "# Initialize Grid Search\n",
    "grid_search_mc = GridSearchCV(\n",
    "    estimator=rf_multiclass,\n",
    "    param_grid=param_grid,\n",
    "    cv=3,\n",
    "    n_jobs=-1,\n",
    "    verbose=2,\n",
    "    scoring='f1_macro'\n",
    ")\n",
    "\n",
    "# Perform Grid Search\n",
    "grid_search_mc.fit(X_train, y_train)\n",
    "\n",
    "# Best parameters\n",
    "print(\"Best Parameters (Multi-Class):\", grid_search_mc.best_params_)\n",
    "\n",
    "# Best estimator\n",
    "best_rf_multiclass = grid_search_mc.best_estimator_\n"
   ]
  },
  {
   "cell_type": "markdown",
   "id": "996ab3fc-8e0b-42e8-9077-93cddf67277a",
   "metadata": {},
   "source": [
    "# Regression: Random Forest Regressor\n"
   ]
  },
  {
   "cell_type": "code",
   "execution_count": null,
   "id": "37b00458-476f-4f79-bfff-d460d654bab3",
   "metadata": {},
   "outputs": [],
   "source": [
    "# Define the parameter grid\n",
    "param_grid_reg = {\n",
    "    'n_estimators': [100, 200],\n",
    "    'max_depth': [None, 10, 20],\n",
    "    'min_samples_split': [2, 5],\n",
    "    'min_samples_leaf': [1, 2],\n",
    "    'max_features': ['auto', 'sqrt']\n",
    "}\n",
    "\n",
    "# Initialize Grid Search\n",
    "grid_search_reg = GridSearchCV(\n",
    "    estimator=rf_regressor,\n",
    "    param_grid=param_grid_reg,\n",
    "    cv=3,\n",
    "    n_jobs=-1,\n",
    "    verbose=2,\n",
    "    scoring='neg_mean_absolute_error'  # Optimize for MAE\n",
    ")\n",
    "\n",
    "# Perform Grid Search\n",
    "grid_search_reg.fit(X_train, y_train)\n",
    "\n",
    "# Best parameters\n",
    "print(\"Best Parameters (Regression):\", grid_search_reg.best_params_)\n",
    "\n",
    "# Best estimator\n",
    "best_rf_regressor = grid_search_reg.best_estimator_\n"
   ]
  },
  {
   "cell_type": "markdown",
   "id": "14a77dd9-b1d5-4766-9d4d-dc50b62a598b",
   "metadata": {},
   "source": [
    "#  Validation with k-Fold Cross-Validation\n"
   ]
  },
  {
   "cell_type": "code",
   "execution_count": null,
   "id": "611abc63-2d8b-40aa-87a4-17de689c9fbe",
   "metadata": {},
   "outputs": [],
   "source": [
    "from sklearn.model_selection import cross_val_score\n",
    "\n",
    "# For Binary Classification\n",
    "cv_scores_mae = cross_val_score(best_rf_classifier, X_train, y_train, cv=5, scoring='f1_macro')\n",
    "print(f\"Binary Classification - Cross-Validation F1-Score: {cv_scores_mae.mean():.2f} ± {cv_scores_mae.std():.2f}\")\n",
    "\n",
    "# For Multi-Class Classification\n",
    "cv_scores_mc = cross_val_score(best_rf_multiclass, X_train, y_train, cv=5, scoring='f1_macro')\n",
    "print(f\"Multi-Class Classification - Cross-Validation F1-Score: {cv_scores_mc.mean():.2f} ± {cv_scores_mc.std():.2f}\")\n",
    "\n",
    "# For Regression\n",
    "cv_scores_reg = cross_val_score(best_rf_regressor, X_train, y_train, cv=5, scoring='neg_mean_absolute_error')\n",
    "print(f\"Regression - Cross-Validation MAE: {-cv_scores_reg.mean():.2f} ± {cv_scores_reg.std():.2f} minutes\")\n"
   ]
  },
  {
   "cell_type": "markdown",
   "id": "b91078ea-b248-4b69-b1b7-2b2a833ac11d",
   "metadata": {},
   "source": [
    "# Model Comparison"
   ]
  },
  {
   "cell_type": "markdown",
   "id": "68d08c56-10fc-4c35-b785-03faebdf76a6",
   "metadata": {},
   "source": [
    "# Binary Classification:"
   ]
  },
  {
   "cell_type": "code",
   "execution_count": null,
   "id": "d7cbd9c4-3a82-4878-9b4f-440c924b0382",
   "metadata": {},
   "outputs": [],
   "source": [
    "from sklearn.metrics import f1_score\n",
    "\n",
    "# Predictions with the best model\n",
    "y_pred_best = best_rf_classifier.predict(X_val)\n",
    "\n",
    "# Calculate F1-Score\n",
    "f1_best = f1_score(y_val, y_pred_best, pos_label='delayed')\n",
    "print(f\"Best Random Forest Classifier F1-Score: {f1_best:.2f}\")\n",
    "\n",
    "# Similarly, calculate for other models if trained\n"
   ]
  },
  {
   "cell_type": "markdown",
   "id": "7a3f3e5b-1133-4dcc-9cc8-b54d5e397688",
   "metadata": {},
   "source": [
    "# Multi-Class Classification:\n"
   ]
  },
  {
   "cell_type": "code",
   "execution_count": null,
   "id": "c793e80c-2eaf-4875-aab1-67970c072e90",
   "metadata": {},
   "outputs": [],
   "source": [
    "# Predictions with the best model\n",
    "y_pred_best_mc = best_rf_multiclass.predict(X_val)\n",
    "\n",
    "# Calculate weighted F1-Score\n",
    "f1_best_mc = f1_score(y_val, y_pred_best_mc, average='weighted')\n",
    "print(f\"Best Multi-Class Random Forest Classifier Weighted F1-Score: {f1_best_mc:.2f}\")\n"
   ]
  },
  {
   "cell_type": "markdown",
   "id": "50c1efc0-ca42-46be-b1e1-b857c5ff8f07",
   "metadata": {},
   "source": [
    "# Regression:\n",
    "\n"
   ]
  },
  {
   "cell_type": "code",
   "execution_count": null,
   "id": "e5a55a14-0871-4726-89d0-ca7c8e7e5bd3",
   "metadata": {},
   "outputs": [],
   "source": [
    "# Predictions with the best model\n",
    "y_pred_best_reg = best_rf_regressor.predict(X_val)\n",
    "\n",
    "# Calculate MAE and RMSE\n",
    "mae_best_reg = mean_absolute_error(y_val, y_pred_best_reg)\n",
    "rmse_best_reg = np.sqrt(mean_squared_error(y_val, y_pred_best_reg))\n",
    "print(f\"Best Random Forest Regressor MAE: {mae_best_reg:.2f} minutes\")\n",
    "print(f\"Best Random Forest Regressor RMSE: {rmse_best_reg:.2f} minutes\")\n"
   ]
  },
  {
   "cell_type": "markdown",
   "id": "7d61dd46-79a0-4c65-aaed-2f76e88b2340",
   "metadata": {},
   "source": [
    "#  TEST PART"
   ]
  },
  {
   "cell_type": "code",
   "execution_count": null,
   "id": "e3a8ea7f-3d74-4cb5-99d7-56c5f95c81a4",
   "metadata": {},
   "outputs": [],
   "source": []
  },
  {
   "cell_type": "code",
   "execution_count": null,
   "id": "05e4f794-1536-4456-9cb3-6ebcddcd04ee",
   "metadata": {},
   "outputs": [],
   "source": [
    "import pandas as pd"
   ]
  },
  {
   "cell_type": "markdown",
   "id": "3c049f6b-bdd1-4a5b-a923-102414107377",
   "metadata": {},
   "source": [
    "# Load the Test Dataset:"
   ]
  },
  {
   "cell_type": "code",
   "execution_count": null,
   "id": "dbede4bb-8ab8-444a-9f9e-7bec288a0e4b",
   "metadata": {},
   "outputs": [],
   "source": [
    "# Load the cleaned test dataset without 'departure.delay_minutes'\n",
    "test_data = pd.read_csv('merged_cleaned_test_flight_weather_data.csv')  # Replace with your actual path\n"
   ]
  },
  {
   "cell_type": "code",
   "execution_count": null,
   "id": "7b5e162b-c6bf-427a-9d67-a89b65e24830",
   "metadata": {},
   "outputs": [],
   "source": [
    "test_data"
   ]
  },
  {
   "cell_type": "markdown",
   "id": "920e1bbc-4990-42cc-b7d1-14c5f7d565c3",
   "metadata": {},
   "source": [
    "# Feature Engineering:\n",
    "\n"
   ]
  },
  {
   "cell_type": "code",
   "execution_count": null,
   "id": "308f3344-cc86-48d4-bb2e-455ccfeda9c9",
   "metadata": {},
   "outputs": [],
   "source": [
    "# Extract day of the week from 'departure.scheduledTime'\n",
    "test_data['departure.scheduledTime'] = pd.to_datetime(test_data['departure.scheduledTime'], errors='coerce')\n",
    "test_data['Departure_DayOfWeek'] = test_data['departure.scheduledTime'].dt.day_name()\n",
    "\n",
    "# Extract hour of the day\n",
    "test_data['Departure_Hour'] = test_data['departure.scheduledTime'].dt.hour\n"
   ]
  },
  {
   "cell_type": "code",
   "execution_count": null,
   "id": "19c4ef5a-9d8a-4615-a754-a1f46662b0be",
   "metadata": {},
   "outputs": [],
   "source": [
    "test_data"
   ]
  },
  {
   "cell_type": "markdown",
   "id": "94dfe104-917f-4abe-b569-f34e52d51b4d",
   "metadata": {},
   "source": [
    "# One-Hot Encoding:\n",
    "\n"
   ]
  },
  {
   "cell_type": "code",
   "execution_count": null,
   "id": "ab496842-6e12-4119-948e-449528b80658",
   "metadata": {},
   "outputs": [],
   "source": [
    "# Encode 'status' column if it's categorical\n",
    "#test_data['status'] = test_data['status'].astype('category').cat.codes\n",
    "\n",
    "# One-Hot Encode 'Departure_DayOfWeek'\n",
    "test_data = pd.get_dummies(test_data, columns=['Departure_DayOfWeek'], drop_first=True)\n",
    "\n",
    "# One-Hot Encode 'airline.name' if necessary\n",
    "# Ensure consistency with training data's encoded features\n",
    "# Example:\n",
    "# test_data = pd.get_dummies(test_data, columns=['airline.name'], drop_first=True)\n"
   ]
  },
  {
   "cell_type": "code",
   "execution_count": null,
   "id": "19e6cc7e-faf9-43d3-9d0b-f36d88cefb73",
   "metadata": {},
   "outputs": [],
   "source": [
    "test_data.info(100)"
   ]
  },
  {
   "cell_type": "markdown",
   "id": "113768da-a467-4094-b266-48b8fdcfec22",
   "metadata": {},
   "source": [
    "# Align Feature Columns:"
   ]
  },
  {
   "cell_type": "code",
   "execution_count": null,
   "id": "1d281eb3-2694-4600-ab81-2c4dea1f63af",
   "metadata": {},
   "outputs": [],
   "source": [
    "# Define feature columns used in the model\n",
    "feature_cols = ['Departure_Hour', 'Temperature (°F) Avg', 'Wind Speed (mph) Avg', \n",
    "               'Precipitation (in) Total', 'Humidity (%) Avg', 'Pressure (in) Avg']\n",
    "\n",
    "# Include encoded categorical features\n",
    "day_of_week_cols = [col for col in test_data.columns if 'Departure_DayOfWeek_' in col]\n",
    "feature_cols += day_of_week_cols\n",
    "\n",
    "# Include airline encoded features if applicable\n",
    "airline_encoded_cols = [col for col in test_data.columns if 'airline.name_' in col]\n",
    "feature_cols += airline_encoded_cols\n",
    "\n",
    "# Check for missing features in test data and add them with default values\n",
    "missing_features = set(feature_cols) - set(test_data.columns)\n",
    "if missing_features:\n",
    "    for feature in missing_features:\n",
    "        test_data[feature] = 0  # Assign a default value, e.g., 0\n",
    "    print(f\"\\nMissing features added to test data: {missing_features}\")\n",
    "\n",
    "# Select features for prediction\n",
    "X_test = test_data[feature_cols]\n",
    "\n"
   ]
  },
  {
   "cell_type": "code",
   "execution_count": null,
   "id": "36f47e1a-e3de-4c9f-8198-8f00bd41bb83",
   "metadata": {},
   "outputs": [],
   "source": [
    "# Handle any remaining missing values\n",
    "X_test = X_test.fillna(0)  # Or another appropriate method\n",
    "\n",
    "# Ensure the order of features matches the training data\n",
    "X_test = X_test[feature_cols]\n"
   ]
  },
  {
   "cell_type": "code",
   "execution_count": null,
   "id": "b8c8ee09-c267-49ff-a3b9-5773bb2aac88",
   "metadata": {},
   "outputs": [],
   "source": [
    "X_test"
   ]
  },
  {
   "cell_type": "code",
   "execution_count": null,
   "id": "cb9d0056-8f40-49c3-b1df-19875510b426",
   "metadata": {},
   "outputs": [],
   "source": [
    "X_test.isnull().sum()"
   ]
  },
  {
   "cell_type": "code",
   "execution_count": null,
   "id": "6e7d5c77-8a2a-4c6a-b22f-b0d86c46e7c1",
   "metadata": {},
   "outputs": [],
   "source": []
  }
 ],
 "metadata": {
  "kernelspec": {
   "display_name": "Python 3 (ipykernel)",
   "language": "python",
   "name": "python3"
  },
  "language_info": {
   "codemirror_mode": {
    "name": "ipython",
    "version": 3
   },
   "file_extension": ".py",
   "mimetype": "text/x-python",
   "name": "python",
   "nbconvert_exporter": "python",
   "pygments_lexer": "ipython3",
   "version": "3.11.7"
  }
 },
 "nbformat": 4,
 "nbformat_minor": 5
}
